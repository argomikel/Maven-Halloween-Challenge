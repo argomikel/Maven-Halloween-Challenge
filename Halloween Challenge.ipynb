{
 "cells": [
  {
   "cell_type": "markdown",
   "id": "0d477c53-94ed-4717-9250-fed804b930da",
   "metadata": {},
   "source": [
    "# **Halloween Challenge**"
   ]
  },
  {
   "cell_type": "markdown",
   "id": "1cce8094-a234-43cb-8cd0-27d86d40ae3d",
   "metadata": {
    "editable": true,
    "slideshow": {
     "slide_type": ""
    },
    "tags": []
   },
   "source": [
    "Maven Analytics  \n",
    "John Michael Javier"
   ]
  },
  {
   "cell_type": "markdown",
   "id": "3ad47b45-d7e2-431b-9860-f7d4ae7ca67b",
   "metadata": {},
   "source": [
    "## About this Project\n",
    "\n",
    "This is my take on Maven Analytics Halloween Challenge. And also, my first time joining the challenge. "
   ]
  },
  {
   "cell_type": "markdown",
   "id": "34a0af67-a833-4953-b7a4-f927911e2654",
   "metadata": {},
   "source": [
    "## Problem Statement\n",
    "\"Find the **3 treats** you'll give out on Halloween to guarantee that trick-or-treaters of **all tastes** find something they'll love and will make you the **most popular house on the block.**\""
   ]
  },
  {
   "cell_type": "markdown",
   "id": "845bac99-119c-4899-919d-fe09de7ef44a",
   "metadata": {},
   "source": [
    "## Loading packages"
   ]
  },
  {
   "cell_type": "code",
   "execution_count": 282,
   "id": "26c26e70-86d7-48df-b0f6-f0dc1d9c0c71",
   "metadata": {},
   "outputs": [],
   "source": [
    "library(tidyverse)"
   ]
  },
  {
   "cell_type": "markdown",
   "id": "64bf9116-d961-4d14-ae13-1e2fdb6aa9dd",
   "metadata": {},
   "source": [
    "## Uploading data"
   ]
  },
  {
   "cell_type": "code",
   "execution_count": null,
   "id": "3918f39d-1ec2-4651-8496-4949d4a7824d",
   "metadata": {},
   "outputs": [],
   "source": [
    "df <- read.csv('/Users/michaeljavier/Desktop/Portfolio/Maven Analytics Challenges/Halloween/candy-data.csv')"
   ]
  },
  {
   "cell_type": "markdown",
   "id": "29032873-b7f0-4e9a-abc2-922186dc876a",
   "metadata": {},
   "source": [
    "## Reviewing the data\n",
    "I have to check what kind of variables I'll be working with. g"
   ]
  },
  {
   "cell_type": "code",
   "execution_count": null,
   "id": "f66d55df-d94c-4829-ab1a-efe961929135",
   "metadata": {},
   "outputs": [],
   "source": [
    "glimpse(df)"
   ]
  },
  {
   "cell_type": "markdown",
   "id": "9eb80c5a-e7f6-4edb-acc0-39f4730c50a4",
   "metadata": {},
   "source": [
    "*Note: The definition on each variable has been provided by Maven in a separate file.*"
   ]
  },
  {
   "cell_type": "markdown",
   "id": "da9c5836-0e9c-4601-9bea-6172812d068e",
   "metadata": {},
   "source": [
    "## Data Wrangling\n",
    "\n",
    "I updated the data frame by grouping the variables as I deemed fit so it'll be easier for me to navigate the data later. I've created new columns based on these groupings: \n",
    "\n",
    "- **type:** *(combined \"chocolate\" & \"fruity\")*\n",
    "    - is the candy a chocolate, fruit-flavored, both or neither?\n",
    "- **with_nuts:**\n",
    "    - does it contain any form of nuts?\n",
    "- **filling:** *(combined caramel, nougat & crispedricewafer)*\n",
    "    - what kind of filling does it have? caramel, nougat, crisped rice/wafer or just a regular candy?\n",
    "- **texture:**\n",
    "    - is it hard? or soft?\n",
    "- **form:**\n",
    "    - is it a bar? or not?\n",
    "- **packaging:** *(renamed pluribus)*\n",
    "    - is it packaged individually? or in a bag/box?\n",
    " \n",
    "For all new columns, if the item is not applicable, the result will be null except in \"texture\", where the result if not \"hard\", will be \"soft\"."
   ]
  },
  {
   "cell_type": "code",
   "execution_count": 205,
   "id": "6dd39655-3b31-47e5-a621-a41a43014751",
   "metadata": {},
   "outputs": [],
   "source": [
    "df2 <- df %>% \n",
    "  mutate(type = \n",
    "           if_else(chocolate == '1' & fruity == '0', \"chocolate\",\n",
    "           if_else(chocolate == '0' & fruity == '1', \"fruit-flavored\", \n",
    "           if_else(chocolate == '1' & fruity == '1', \"chocolate and fruit\",\n",
    "                   \"\")))) %>% \n",
    "  mutate(with_nuts = \n",
    "           if_else(peanutyalmondy == '1', \"nutty\", \"\")) %>%  \n",
    "  mutate(filling = \n",
    "           if_else(caramel == '1' & nougat == '1' & crispedricewafer == '1', \"candy with caramel, nougat and crisped rice/wafer\",\n",
    "           if_else(caramel == '1' & nougat == '0' & crispedricewafer == '0', \"candy with caramel\",\n",
    "           if_else(caramel == '0' & nougat == '1' & crispedricewafer == '0', \"candy with nougat\",\n",
    "           if_else(caramel == '0' & nougat == '0' & crispedricewafer == '1', \"candy with crisped rice/wafer\",\n",
    "           if_else(caramel == '1' & nougat == '1' & crispedricewafer == '0', \"candy with caramel and nougat\",\n",
    "           if_else(caramel == '1' & nougat == '0' & crispedricewafer == '1', \"candy with caramel and crisped rice/wafer\",\n",
    "           if_else(caramel == '0' & nougat == '1' & crispedricewafer == '1', \"candy with nougat and crisped rice/wafer\",\n",
    "                   \"regular candy\")))))))) %>% \n",
    "  mutate(texture = \n",
    "           if_else(hard == '1', \"hard\", \"soft\"))  %>% \n",
    "  mutate(form = \n",
    "           if_else(bar == '1', \"bar\", \"non-bar\"))  %>% \n",
    "  mutate(packaging = \n",
    "           if_else(pluribus == '1', \"in a bag/box\", \"in a single-pack\")) "
   ]
  },
  {
   "cell_type": "markdown",
   "id": "487e27d2-922a-420b-bf69-1d243363cd67",
   "metadata": {},
   "source": [
    "## Reviewing the new data frame"
   ]
  },
  {
   "cell_type": "code",
   "execution_count": 207,
   "id": "850b80e2-147c-4048-a28f-0410bc8f3d72",
   "metadata": {},
   "outputs": [
    {
     "name": "stdout",
     "output_type": "stream",
     "text": [
      "Rows: 85\n",
      "Columns: 19\n",
      "$ competitorname   \u001b[3m\u001b[90m<chr>\u001b[39m\u001b[23m \"100 Grand\", \"3 Musketeers\", \"One dime\", \"One quarter…\n",
      "$ chocolate        \u001b[3m\u001b[90m<int>\u001b[39m\u001b[23m 1, 1, 0, 0, 0, 1, 1, 0, 0, 0, 1, 0, 0, 0, 0, 0, 0, 0,…\n",
      "$ fruity           \u001b[3m\u001b[90m<int>\u001b[39m\u001b[23m 0, 0, 0, 0, 1, 0, 0, 0, 0, 1, 0, 1, 1, 1, 1, 1, 1, 1,…\n",
      "$ caramel          \u001b[3m\u001b[90m<int>\u001b[39m\u001b[23m 1, 0, 0, 0, 0, 0, 1, 0, 0, 1, 0, 0, 0, 0, 0, 0, 0, 0,…\n",
      "$ peanutyalmondy   \u001b[3m\u001b[90m<int>\u001b[39m\u001b[23m 0, 0, 0, 0, 0, 1, 1, 1, 0, 0, 0, 0, 0, 0, 0, 0, 0, 0,…\n",
      "$ nougat           \u001b[3m\u001b[90m<int>\u001b[39m\u001b[23m 0, 1, 0, 0, 0, 0, 1, 0, 0, 0, 1, 0, 0, 0, 0, 0, 0, 0,…\n",
      "$ crispedricewafer \u001b[3m\u001b[90m<int>\u001b[39m\u001b[23m 1, 0, 0, 0, 0, 0, 0, 0, 0, 0, 0, 0, 0, 0, 0, 0, 0, 0,…\n",
      "$ hard             \u001b[3m\u001b[90m<int>\u001b[39m\u001b[23m 0, 0, 0, 0, 0, 0, 0, 0, 0, 0, 0, 0, 0, 0, 1, 0, 1, 1,…\n",
      "$ bar              \u001b[3m\u001b[90m<int>\u001b[39m\u001b[23m 1, 1, 0, 0, 0, 1, 1, 0, 0, 0, 1, 0, 0, 0, 0, 0, 0, 0,…\n",
      "$ pluribus         \u001b[3m\u001b[90m<int>\u001b[39m\u001b[23m 0, 0, 0, 0, 0, 0, 0, 1, 1, 0, 0, 1, 1, 1, 0, 1, 0, 1,…\n",
      "$ sugarpercent     \u001b[3m\u001b[90m<dbl>\u001b[39m\u001b[23m 0.732, 0.604, 0.011, 0.011, 0.906, 0.465, 0.604, 0.31…\n",
      "$ pricepercent     \u001b[3m\u001b[90m<dbl>\u001b[39m\u001b[23m 0.860, 0.511, 0.116, 0.511, 0.511, 0.767, 0.767, 0.51…\n",
      "$ winpercent       \u001b[3m\u001b[90m<dbl>\u001b[39m\u001b[23m 66.97173, 67.60294, 32.26109, 46.11650, 52.34146, 50.…\n",
      "$ type             \u001b[3m\u001b[90m<chr>\u001b[39m\u001b[23m \"chocolate\", \"chocolate\", \"\", \"\", \"fruit-flavored\", \"…\n",
      "$ with_nuts        \u001b[3m\u001b[90m<chr>\u001b[39m\u001b[23m \"\", \"\", \"\", \"\", \"\", \"nutty\", \"nutty\", \"nutty\", \"\", \"\"…\n",
      "$ filling          \u001b[3m\u001b[90m<chr>\u001b[39m\u001b[23m \"candy with caramel and crisped rice/wafer\", \"candy w…\n",
      "$ texture          \u001b[3m\u001b[90m<chr>\u001b[39m\u001b[23m \"soft\", \"soft\", \"soft\", \"soft\", \"soft\", \"soft\", \"soft…\n",
      "$ form             \u001b[3m\u001b[90m<chr>\u001b[39m\u001b[23m \"bar\", \"bar\", \"non-bar\", \"non-bar\", \"non-bar\", \"bar\",…\n",
      "$ packaging        \u001b[3m\u001b[90m<chr>\u001b[39m\u001b[23m \"in a single-pack\", \"in a single-pack\", \"in a single-…\n"
     ]
    }
   ],
   "source": [
    "glimpse(df2)"
   ]
  },
  {
   "cell_type": "markdown",
   "id": "de2524cf-0b04-4fe9-851f-b27150a65dfa",
   "metadata": {},
   "source": [
    "Renamed the variable **competitorname** to **brand**.\n",
    "Reordered the columns. \n",
    "Removed all unnecessary variables. \n",
    "\n",
    "Added three numerical variables back from the original table.\n",
    "- **sugarpercent:** The percentile of sugar it falls under within the data set.\n",
    "- **pricepercent:** The unit price percentile compared to the rest of the set.\n",
    "- **winpercent:** The overall win percentage according to 269,000 matchups.\n",
    "\n",
    "*Note: The definition above was taken from the other file from Maven.*"
   ]
  },
  {
   "cell_type": "code",
   "execution_count": 209,
   "id": "cb4f2d6f-0722-4edc-9388-b949417973c7",
   "metadata": {},
   "outputs": [],
   "source": [
    "df3 <- df2  %>% \n",
    "  rename(brand = competitorname) %>%\n",
    "  select(brand,\n",
    "         texture,\n",
    "         with_nuts,\n",
    "         type,\n",
    "         form,\n",
    "         filling,\n",
    "         packaging,\n",
    "         sugarpercent,\n",
    "         pricepercent,\n",
    "         winpercent)"
   ]
  },
  {
   "cell_type": "markdown",
   "id": "f29f4d96-97bc-48a2-a738-51f6244f6573",
   "metadata": {},
   "source": [
    "## Converting Values and Creating a new table\n",
    "\n",
    "I converted **sugarpercent** and **pricepercent** to percentage values and rounded off **winpercent.**"
   ]
  },
  {
   "cell_type": "code",
   "execution_count": 211,
   "id": "33f3078b-6986-4d84-92b9-d0ba7d057120",
   "metadata": {},
   "outputs": [],
   "source": [
    "df3$sugarpercent <- df3$sugarpercent * 100\n",
    "df3$pricepercent <- df3$pricepercent * 100\n",
    "df3$winpercent <- round(df3$winpercent, digits = 2)"
   ]
  },
  {
   "cell_type": "markdown",
   "id": "2d6bb17e-963f-4ff3-a65c-f424d968f708",
   "metadata": {},
   "source": [
    "I added a new column called **description** that would unite all new columns' values into single column. \n",
    "I reordered all fo the columns I wanted and replaced all null values with their appropriate values. "
   ]
  },
  {
   "cell_type": "code",
   "execution_count": 213,
   "id": "ff058793-ee88-4534-b9be-955d78a6bfe0",
   "metadata": {},
   "outputs": [],
   "source": [
    "candy <- df3 %>% \n",
    "  mutate(description = \n",
    "           paste(texture, with_nuts, type, form, filling, packaging, sep = \" \")) %>% \n",
    "  mutate(description = trimws(gsub(\"\\\\s+\", \" \", description))) %>% \n",
    "  select(brand,\n",
    "         texture,\n",
    "         with_nuts,\n",
    "         type,\n",
    "         form,\n",
    "         filling,\n",
    "         packaging,\n",
    "         description,\n",
    "         sugarpercent,\n",
    "         pricepercent,\n",
    "         winpercent) %>% \n",
    "  mutate(with_nuts = \n",
    "           if_else(with_nuts == \"\", \"without nuts\", \"with nuts\")) %>% \n",
    "  mutate(type = \n",
    "           if_else(type == \"\", \"unspecified\", type))"
   ]
  },
  {
   "cell_type": "markdown",
   "id": "43336077-c220-4c4c-acd7-7685b16db381",
   "metadata": {},
   "source": [
    "Let's review the new table **candy.**"
   ]
  },
  {
   "cell_type": "code",
   "execution_count": 215,
   "id": "a665cc73-fb99-4c4c-8cf3-fcdf7ea3bd18",
   "metadata": {},
   "outputs": [
    {
     "name": "stdout",
     "output_type": "stream",
     "text": [
      "Rows: 85\n",
      "Columns: 11\n",
      "$ brand        \u001b[3m\u001b[90m<chr>\u001b[39m\u001b[23m \"100 Grand\", \"3 Musketeers\", \"One dime\", \"One quarter\", \"…\n",
      "$ texture      \u001b[3m\u001b[90m<chr>\u001b[39m\u001b[23m \"soft\", \"soft\", \"soft\", \"soft\", \"soft\", \"soft\", \"soft\", \"…\n",
      "$ with_nuts    \u001b[3m\u001b[90m<chr>\u001b[39m\u001b[23m \"without nuts\", \"without nuts\", \"without nuts\", \"without …\n",
      "$ type         \u001b[3m\u001b[90m<chr>\u001b[39m\u001b[23m \"chocolate\", \"chocolate\", \"unspecified\", \"unspecified\", \"…\n",
      "$ form         \u001b[3m\u001b[90m<chr>\u001b[39m\u001b[23m \"bar\", \"bar\", \"non-bar\", \"non-bar\", \"non-bar\", \"bar\", \"ba…\n",
      "$ filling      \u001b[3m\u001b[90m<chr>\u001b[39m\u001b[23m \"candy with caramel and crisped rice/wafer\", \"candy with …\n",
      "$ packaging    \u001b[3m\u001b[90m<chr>\u001b[39m\u001b[23m \"in a single-pack\", \"in a single-pack\", \"in a single-pack…\n",
      "$ description  \u001b[3m\u001b[90m<chr>\u001b[39m\u001b[23m \"soft chocolate bar candy with caramel and crisped rice/w…\n",
      "$ sugarpercent \u001b[3m\u001b[90m<dbl>\u001b[39m\u001b[23m 73.2, 60.4, 1.1, 1.1, 90.6, 46.5, 60.4, 31.3, 90.6, 60.4,…\n",
      "$ pricepercent \u001b[3m\u001b[90m<dbl>\u001b[39m\u001b[23m 86.0, 51.1, 11.6, 51.1, 51.1, 76.7, 76.7, 51.1, 32.5, 32.…\n",
      "$ winpercent   \u001b[3m\u001b[90m<dbl>\u001b[39m\u001b[23m 66.97, 67.60, 32.26, 46.12, 52.34, 50.35, 56.91, 23.42, 3…\n"
     ]
    }
   ],
   "source": [
    "glimpse(candy)"
   ]
  },
  {
   "cell_type": "markdown",
   "id": "cc322a07-0903-4d0b-ae4f-7c6088336f75",
   "metadata": {},
   "source": [
    "*Note: This will be my base table for my analysis*"
   ]
  },
  {
   "cell_type": "markdown",
   "id": "9bc32d04-3bd8-4c3f-bcee-9c12b1e18906",
   "metadata": {},
   "source": [
    "## Initial Analysis\n",
    "Let's go back to the **problem statement:** \n",
    "\n",
    "\"Find the **3 treats** you'll give out on Halloween to guarantee that trick-or-treaters of **all tastes** find something they'll love and will make you the **most popular house on the block.**\"\n",
    "\n",
    "I'm not sure how to proceed yet, so my initial thought is to play around with the data first and see what I will find."
   ]
  },
  {
   "cell_type": "markdown",
   "id": "18297ab4-6008-4104-92ce-9ddbae1dcf8c",
   "metadata": {},
   "source": [
    "### **A. Filtering Numerical Variables**\n",
    "I decided to check the top 3 candies by filtering per numerical variable below: \n",
    "\n",
    "- highest **winpercent**\n",
    "- lowest **sugarpercent**\n",
    "- lowest **pricepercent**\n",
    "\n",
    "#### **Why did I do it this way?**\n",
    "My initial thought is that the higher the winpercent is, the more popular it is. Lowest sugarpercent would be the healthiest choice. And lowest pricepercent will keep our pockets checked. "
   ]
  },
  {
   "cell_type": "markdown",
   "id": "df56c91f-a1dd-4644-a85a-a16bf998f9e2",
   "metadata": {},
   "source": [
    "#### **Top 3 candies with highest win percentage**"
   ]
  },
  {
   "cell_type": "code",
   "execution_count": 217,
   "id": "a25a1732-33c9-4412-a028-2be2070c4a54",
   "metadata": {
    "editable": true,
    "slideshow": {
     "slide_type": ""
    },
    "tags": []
   },
   "outputs": [
    {
     "data": {
      "text/html": [
       "<table class=\"dataframe\">\n",
       "<caption>A data.frame: 3 × 3</caption>\n",
       "<thead>\n",
       "\t<tr><th></th><th scope=col>brand</th><th scope=col>winpercent</th><th scope=col>description</th></tr>\n",
       "\t<tr><th></th><th scope=col>&lt;chr&gt;</th><th scope=col>&lt;dbl&gt;</th><th scope=col>&lt;chr&gt;</th></tr>\n",
       "</thead>\n",
       "<tbody>\n",
       "\t<tr><th scope=row>1</th><td>Reese's Peanut Butter cup</td><td>84.18</td><td>soft nutty chocolate non-bar regular candy in a single-pack                  </td></tr>\n",
       "\t<tr><th scope=row>2</th><td>Reese's Miniatures       </td><td>81.87</td><td>soft nutty chocolate non-bar regular candy in a single-pack                  </td></tr>\n",
       "\t<tr><th scope=row>3</th><td>Twix                     </td><td>81.64</td><td>soft chocolate bar candy with caramel and crisped rice/wafer in a single-pack</td></tr>\n",
       "</tbody>\n",
       "</table>\n"
      ],
      "text/latex": [
       "A data.frame: 3 × 3\n",
       "\\begin{tabular}{r|lll}\n",
       "  & brand & winpercent & description\\\\\n",
       "  & <chr> & <dbl> & <chr>\\\\\n",
       "\\hline\n",
       "\t1 & Reese's Peanut Butter cup & 84.18 & soft nutty chocolate non-bar regular candy in a single-pack                  \\\\\n",
       "\t2 & Reese's Miniatures        & 81.87 & soft nutty chocolate non-bar regular candy in a single-pack                  \\\\\n",
       "\t3 & Twix                      & 81.64 & soft chocolate bar candy with caramel and crisped rice/wafer in a single-pack\\\\\n",
       "\\end{tabular}\n"
      ],
      "text/markdown": [
       "\n",
       "A data.frame: 3 × 3\n",
       "\n",
       "| <!--/--> | brand &lt;chr&gt; | winpercent &lt;dbl&gt; | description &lt;chr&gt; |\n",
       "|---|---|---|---|\n",
       "| 1 | Reese's Peanut Butter cup | 84.18 | soft nutty chocolate non-bar regular candy in a single-pack                   |\n",
       "| 2 | Reese's Miniatures        | 81.87 | soft nutty chocolate non-bar regular candy in a single-pack                   |\n",
       "| 3 | Twix                      | 81.64 | soft chocolate bar candy with caramel and crisped rice/wafer in a single-pack |\n",
       "\n"
      ],
      "text/plain": [
       "  brand                     winpercent\n",
       "1 Reese's Peanut Butter cup 84.18     \n",
       "2 Reese's Miniatures        81.87     \n",
       "3 Twix                      81.64     \n",
       "  description                                                                  \n",
       "1 soft nutty chocolate non-bar regular candy in a single-pack                  \n",
       "2 soft nutty chocolate non-bar regular candy in a single-pack                  \n",
       "3 soft chocolate bar candy with caramel and crisped rice/wafer in a single-pack"
      ]
     },
     "metadata": {},
     "output_type": "display_data"
    }
   ],
   "source": [
    "candy %>% \n",
    "  arrange(desc(winpercent)) %>% \n",
    "  select(brand, winpercent, description) %>% \n",
    "  head(3)"
   ]
  },
  {
   "cell_type": "markdown",
   "id": "ecf43193-b793-4625-83c4-aaa59a919d20",
   "metadata": {},
   "source": [
    "#### **Top 3 candies with lowest sugar percentage**"
   ]
  },
  {
   "cell_type": "code",
   "execution_count": 219,
   "id": "fc47feda-2f33-4036-a1e0-6f574ec21fa8",
   "metadata": {},
   "outputs": [
    {
     "data": {
      "text/html": [
       "<table class=\"dataframe\">\n",
       "<caption>A data.frame: 3 × 3</caption>\n",
       "<thead>\n",
       "\t<tr><th></th><th scope=col>brand</th><th scope=col>sugarpercent</th><th scope=col>description</th></tr>\n",
       "\t<tr><th></th><th scope=col>&lt;chr&gt;</th><th scope=col>&lt;dbl&gt;</th><th scope=col>&lt;chr&gt;</th></tr>\n",
       "</thead>\n",
       "<tbody>\n",
       "\t<tr><th scope=row>1</th><td>One dime          </td><td>1.1</td><td>soft non-bar regular candy in a single-pack                </td></tr>\n",
       "\t<tr><th scope=row>2</th><td>One quarter       </td><td>1.1</td><td>soft non-bar regular candy in a single-pack                </td></tr>\n",
       "\t<tr><th scope=row>3</th><td>Reese's Miniatures</td><td>3.4</td><td>soft nutty chocolate non-bar regular candy in a single-pack</td></tr>\n",
       "</tbody>\n",
       "</table>\n"
      ],
      "text/latex": [
       "A data.frame: 3 × 3\n",
       "\\begin{tabular}{r|lll}\n",
       "  & brand & sugarpercent & description\\\\\n",
       "  & <chr> & <dbl> & <chr>\\\\\n",
       "\\hline\n",
       "\t1 & One dime           & 1.1 & soft non-bar regular candy in a single-pack                \\\\\n",
       "\t2 & One quarter        & 1.1 & soft non-bar regular candy in a single-pack                \\\\\n",
       "\t3 & Reese's Miniatures & 3.4 & soft nutty chocolate non-bar regular candy in a single-pack\\\\\n",
       "\\end{tabular}\n"
      ],
      "text/markdown": [
       "\n",
       "A data.frame: 3 × 3\n",
       "\n",
       "| <!--/--> | brand &lt;chr&gt; | sugarpercent &lt;dbl&gt; | description &lt;chr&gt; |\n",
       "|---|---|---|---|\n",
       "| 1 | One dime           | 1.1 | soft non-bar regular candy in a single-pack                 |\n",
       "| 2 | One quarter        | 1.1 | soft non-bar regular candy in a single-pack                 |\n",
       "| 3 | Reese's Miniatures | 3.4 | soft nutty chocolate non-bar regular candy in a single-pack |\n",
       "\n"
      ],
      "text/plain": [
       "  brand              sugarpercent\n",
       "1 One dime           1.1         \n",
       "2 One quarter        1.1         \n",
       "3 Reese's Miniatures 3.4         \n",
       "  description                                                \n",
       "1 soft non-bar regular candy in a single-pack                \n",
       "2 soft non-bar regular candy in a single-pack                \n",
       "3 soft nutty chocolate non-bar regular candy in a single-pack"
      ]
     },
     "metadata": {},
     "output_type": "display_data"
    }
   ],
   "source": [
    "candy %>% \n",
    "  arrange(sugarpercent) %>% \n",
    "  select(brand, sugarpercent, description) %>% \n",
    "  head(3)"
   ]
  },
  {
   "cell_type": "markdown",
   "id": "62aeb945-81b9-42e5-a722-615cacb0a9de",
   "metadata": {},
   "source": [
    "#### **Top 3 candies with lowest price percentage**"
   ]
  },
  {
   "cell_type": "code",
   "execution_count": 221,
   "id": "7b5acd18-d185-4ecb-91b6-c7db7407c37e",
   "metadata": {},
   "outputs": [
    {
     "data": {
      "text/html": [
       "<table class=\"dataframe\">\n",
       "<caption>A data.frame: 3 × 3</caption>\n",
       "<thead>\n",
       "\t<tr><th></th><th scope=col>brand</th><th scope=col>pricepercent</th><th scope=col>description</th></tr>\n",
       "\t<tr><th></th><th scope=col>&lt;chr&gt;</th><th scope=col>&lt;dbl&gt;</th><th scope=col>&lt;chr&gt;</th></tr>\n",
       "</thead>\n",
       "<tbody>\n",
       "\t<tr><th scope=row>1</th><td>Tootsie Roll Midgies</td><td>1.1</td><td>soft chocolate non-bar regular candy in a bag/box         </td></tr>\n",
       "\t<tr><th scope=row>2</th><td>Pixie Sticks        </td><td>2.3</td><td>soft non-bar regular candy in a bag/box                   </td></tr>\n",
       "\t<tr><th scope=row>3</th><td>Dum Dums            </td><td>3.4</td><td>hard fruit-flavored non-bar regular candy in a single-pack</td></tr>\n",
       "</tbody>\n",
       "</table>\n"
      ],
      "text/latex": [
       "A data.frame: 3 × 3\n",
       "\\begin{tabular}{r|lll}\n",
       "  & brand & pricepercent & description\\\\\n",
       "  & <chr> & <dbl> & <chr>\\\\\n",
       "\\hline\n",
       "\t1 & Tootsie Roll Midgies & 1.1 & soft chocolate non-bar regular candy in a bag/box         \\\\\n",
       "\t2 & Pixie Sticks         & 2.3 & soft non-bar regular candy in a bag/box                   \\\\\n",
       "\t3 & Dum Dums             & 3.4 & hard fruit-flavored non-bar regular candy in a single-pack\\\\\n",
       "\\end{tabular}\n"
      ],
      "text/markdown": [
       "\n",
       "A data.frame: 3 × 3\n",
       "\n",
       "| <!--/--> | brand &lt;chr&gt; | pricepercent &lt;dbl&gt; | description &lt;chr&gt; |\n",
       "|---|---|---|---|\n",
       "| 1 | Tootsie Roll Midgies | 1.1 | soft chocolate non-bar regular candy in a bag/box          |\n",
       "| 2 | Pixie Sticks         | 2.3 | soft non-bar regular candy in a bag/box                    |\n",
       "| 3 | Dum Dums             | 3.4 | hard fruit-flavored non-bar regular candy in a single-pack |\n",
       "\n"
      ],
      "text/plain": [
       "  brand                pricepercent\n",
       "1 Tootsie Roll Midgies 1.1         \n",
       "2 Pixie Sticks         2.3         \n",
       "3 Dum Dums             3.4         \n",
       "  description                                               \n",
       "1 soft chocolate non-bar regular candy in a bag/box         \n",
       "2 soft non-bar regular candy in a bag/box                   \n",
       "3 hard fruit-flavored non-bar regular candy in a single-pack"
      ]
     },
     "metadata": {},
     "output_type": "display_data"
    }
   ],
   "source": [
    "candy %>% \n",
    "  arrange(pricepercent) %>% \n",
    "  select(brand, pricepercent, description) %>% \n",
    "  head(3)"
   ]
  },
  {
   "cell_type": "markdown",
   "id": "0483a294-827d-4c22-ad7a-d462f06de174",
   "metadata": {},
   "source": [
    "*Based on this simple view, I've noticed that **Reese's Miniatures** falls within the highest winpercentage and lowest sugarpercent.*"
   ]
  },
  {
   "cell_type": "markdown",
   "id": "31b81928-90f3-4973-9619-244fc6ef0d1a",
   "metadata": {},
   "source": [
    "### **B. Rank then Filter per numerical Variable**\n",
    "Let's check again if it will be the same observation if I do the filtering based on the same conditions, but this time, I will rank each variable first then filter each one. \n",
    "\n",
    "- Identify the **top 20** candies with **highest winpercent**\n",
    "- From the top 10 candies, filter the **top 10** with **lowest sugarpercent**\n",
    "- From the top 5, filter the **top 3** with **lowest pricepercent**\n",
    "\n",
    "#### **Why did I do it this way?**\n",
    "- **By filtering the top 20 highest winpercentage,** I would have a list of candies that are most popular and well-received.\n",
    "- **By filtering the top 10 lowest sugarpercentage,** I would know which ones are the healthiest.\n",
    "- **By filtering the top 3 lowest pricepercentage,** * would know which ones are the cheapest. "
   ]
  },
  {
   "cell_type": "code",
   "execution_count": 223,
   "id": "c5034b8f-138e-4272-b4b8-24f658c549d5",
   "metadata": {},
   "outputs": [
    {
     "data": {
      "text/html": [
       "<table class=\"dataframe\">\n",
       "<caption>A data.frame: 3 × 5</caption>\n",
       "<thead>\n",
       "\t<tr><th scope=col>brand</th><th scope=col>winpercent</th><th scope=col>sugarpercent</th><th scope=col>pricepercent</th><th scope=col>description</th></tr>\n",
       "\t<tr><th scope=col>&lt;chr&gt;</th><th scope=col>&lt;dbl&gt;</th><th scope=col>&lt;dbl&gt;</th><th scope=col>&lt;dbl&gt;</th><th scope=col>&lt;chr&gt;</th></tr>\n",
       "</thead>\n",
       "<tbody>\n",
       "\t<tr><td>Reese's Miniatures</td><td>81.87</td><td> 3.4</td><td>27.9</td><td>soft nutty chocolate non-bar regular candy in a single-pack      </td></tr>\n",
       "\t<tr><td>Kit Kat           </td><td>76.77</td><td>31.3</td><td>51.1</td><td>soft chocolate bar candy with crisped rice/wafer in a single-pack</td></tr>\n",
       "\t<tr><td>Starburst         </td><td>67.04</td><td>15.1</td><td>22.0</td><td>soft fruit-flavored non-bar regular candy in a bag/box           </td></tr>\n",
       "</tbody>\n",
       "</table>\n"
      ],
      "text/latex": [
       "A data.frame: 3 × 5\n",
       "\\begin{tabular}{lllll}\n",
       " brand & winpercent & sugarpercent & pricepercent & description\\\\\n",
       " <chr> & <dbl> & <dbl> & <dbl> & <chr>\\\\\n",
       "\\hline\n",
       "\t Reese's Miniatures & 81.87 &  3.4 & 27.9 & soft nutty chocolate non-bar regular candy in a single-pack      \\\\\n",
       "\t Kit Kat            & 76.77 & 31.3 & 51.1 & soft chocolate bar candy with crisped rice/wafer in a single-pack\\\\\n",
       "\t Starburst          & 67.04 & 15.1 & 22.0 & soft fruit-flavored non-bar regular candy in a bag/box           \\\\\n",
       "\\end{tabular}\n"
      ],
      "text/markdown": [
       "\n",
       "A data.frame: 3 × 5\n",
       "\n",
       "| brand &lt;chr&gt; | winpercent &lt;dbl&gt; | sugarpercent &lt;dbl&gt; | pricepercent &lt;dbl&gt; | description &lt;chr&gt; |\n",
       "|---|---|---|---|---|\n",
       "| Reese's Miniatures | 81.87 |  3.4 | 27.9 | soft nutty chocolate non-bar regular candy in a single-pack       |\n",
       "| Kit Kat            | 76.77 | 31.3 | 51.1 | soft chocolate bar candy with crisped rice/wafer in a single-pack |\n",
       "| Starburst          | 67.04 | 15.1 | 22.0 | soft fruit-flavored non-bar regular candy in a bag/box            |\n",
       "\n"
      ],
      "text/plain": [
       "  brand              winpercent sugarpercent pricepercent\n",
       "1 Reese's Miniatures 81.87       3.4         27.9        \n",
       "2 Kit Kat            76.77      31.3         51.1        \n",
       "3 Starburst          67.04      15.1         22.0        \n",
       "  description                                                      \n",
       "1 soft nutty chocolate non-bar regular candy in a single-pack      \n",
       "2 soft chocolate bar candy with crisped rice/wafer in a single-pack\n",
       "3 soft fruit-flavored non-bar regular candy in a bag/box           "
      ]
     },
     "metadata": {},
     "output_type": "display_data"
    }
   ],
   "source": [
    "candy %>% \n",
    "  arrange(desc(winpercent)) %>% \n",
    "  slice_head(n = 20) %>% \n",
    "    arrange(sugarpercent) %>% \n",
    "    slice_head(n = 10) %>% \n",
    "      arrange(pricepercent) %>% \n",
    "      slice_head(n = 3) %>% \n",
    "        select(brand, winpercent, sugarpercent, pricepercent, description) %>% \n",
    "        arrange(desc(winpercent))"
   ]
  },
  {
   "cell_type": "markdown",
   "id": "ccaf1248-98b1-4a8b-a23a-c8597fb53c81",
   "metadata": {},
   "source": [
    "*Now this is interesting, **Reese's Miniatures** still ranked **1st** among the candies, but I'm still not sure this is what I'm looking for. I'll try with a different perspective.*"
   ]
  },
  {
   "cell_type": "markdown",
   "id": "e903d208-04a6-4bdc-8bcd-3be0f24f6841",
   "metadata": {},
   "source": [
    "### **C. Highest Winpercent per Categorical Variable**\n",
    "Let's check each categorical variables' highest winpercent,\n",
    "\n",
    "- texture\n",
    "- with-nuts\n",
    "- type\n",
    "- form\n",
    "- filling\n",
    "- packaging\n",
    "\n",
    "And use each winning categorical variables' winpercent value to look fo the candy that falls within that description."
   ]
  },
  {
   "cell_type": "markdown",
   "id": "763f6abe-39df-4c31-97bf-d534aaebd2e4",
   "metadata": {},
   "source": [
    "#### **Texture**"
   ]
  },
  {
   "cell_type": "code",
   "execution_count": 225,
   "id": "431b80cc-bec2-40bb-9ceb-b825212e0058",
   "metadata": {},
   "outputs": [
    {
     "data": {
      "text/html": [
       "<table class=\"dataframe\">\n",
       "<caption>A tibble: 2 × 2</caption>\n",
       "<thead>\n",
       "\t<tr><th scope=col>texture</th><th scope=col>Win %</th></tr>\n",
       "\t<tr><th scope=col>&lt;chr&gt;</th><th scope=col>&lt;dbl&gt;</th></tr>\n",
       "</thead>\n",
       "<tbody>\n",
       "\t<tr><td>hard</td><td>40.51</td></tr>\n",
       "\t<tr><td>soft</td><td>52.42</td></tr>\n",
       "</tbody>\n",
       "</table>\n"
      ],
      "text/latex": [
       "A tibble: 2 × 2\n",
       "\\begin{tabular}{ll}\n",
       " texture & Win \\%\\\\\n",
       " <chr> & <dbl>\\\\\n",
       "\\hline\n",
       "\t hard & 40.51\\\\\n",
       "\t soft & 52.42\\\\\n",
       "\\end{tabular}\n"
      ],
      "text/markdown": [
       "\n",
       "A tibble: 2 × 2\n",
       "\n",
       "| texture &lt;chr&gt; | Win % &lt;dbl&gt; |\n",
       "|---|---|\n",
       "| hard | 40.51 |\n",
       "| soft | 52.42 |\n",
       "\n"
      ],
      "text/plain": [
       "  texture Win %\n",
       "1 hard    40.51\n",
       "2 soft    52.42"
      ]
     },
     "metadata": {},
     "output_type": "display_data"
    }
   ],
   "source": [
    "candy %>% \n",
    "  group_by(texture) %>% \n",
    "  summarise(\"Win %\" = round(mean(winpercent), digits = 2))"
   ]
  },
  {
   "cell_type": "markdown",
   "id": "67f98b7d-055b-46f2-b9c1-89dea9ea4a7e",
   "metadata": {},
   "source": [
    "#### **With_Nuts**"
   ]
  },
  {
   "cell_type": "code",
   "execution_count": 227,
   "id": "ce2b3b70-21a4-4844-b2d4-93bb2327624a",
   "metadata": {},
   "outputs": [
    {
     "data": {
      "text/html": [
       "<table class=\"dataframe\">\n",
       "<caption>A tibble: 2 × 2</caption>\n",
       "<thead>\n",
       "\t<tr><th scope=col>with_nuts</th><th scope=col>Win %</th></tr>\n",
       "\t<tr><th scope=col>&lt;chr&gt;</th><th scope=col>&lt;dbl&gt;</th></tr>\n",
       "</thead>\n",
       "<tbody>\n",
       "\t<tr><td>with nuts   </td><td>63.70</td></tr>\n",
       "\t<tr><td>without nuts</td><td>47.68</td></tr>\n",
       "</tbody>\n",
       "</table>\n"
      ],
      "text/latex": [
       "A tibble: 2 × 2\n",
       "\\begin{tabular}{ll}\n",
       " with\\_nuts & Win \\%\\\\\n",
       " <chr> & <dbl>\\\\\n",
       "\\hline\n",
       "\t with nuts    & 63.70\\\\\n",
       "\t without nuts & 47.68\\\\\n",
       "\\end{tabular}\n"
      ],
      "text/markdown": [
       "\n",
       "A tibble: 2 × 2\n",
       "\n",
       "| with_nuts &lt;chr&gt; | Win % &lt;dbl&gt; |\n",
       "|---|---|\n",
       "| with nuts    | 63.70 |\n",
       "| without nuts | 47.68 |\n",
       "\n"
      ],
      "text/plain": [
       "  with_nuts    Win %\n",
       "1 with nuts    63.70\n",
       "2 without nuts 47.68"
      ]
     },
     "metadata": {},
     "output_type": "display_data"
    }
   ],
   "source": [
    "candy %>% \n",
    "  group_by(with_nuts) %>% \n",
    "  summarise(\"Win %\" = round(mean(winpercent), digits = 2))"
   ]
  },
  {
   "cell_type": "markdown",
   "id": "efb70a73-22f4-4a03-9b7e-4d7716f348dc",
   "metadata": {},
   "source": [
    "#### **Type**"
   ]
  },
  {
   "cell_type": "code",
   "execution_count": 229,
   "id": "0961d9a9-a2c6-4fb5-a037-7ab22c79687c",
   "metadata": {},
   "outputs": [
    {
     "data": {
      "text/html": [
       "<table class=\"dataframe\">\n",
       "<caption>A tibble: 4 × 2</caption>\n",
       "<thead>\n",
       "\t<tr><th scope=col>type</th><th scope=col>Win %</th></tr>\n",
       "\t<tr><th scope=col>&lt;chr&gt;</th><th scope=col>&lt;dbl&gt;</th></tr>\n",
       "</thead>\n",
       "<tbody>\n",
       "\t<tr><td>chocolate          </td><td>61.25</td></tr>\n",
       "\t<tr><td>chocolate and fruit</td><td>48.98</td></tr>\n",
       "\t<tr><td>fruit-flavored     </td><td>43.99</td></tr>\n",
       "\t<tr><td>unspecified        </td><td>35.93</td></tr>\n",
       "</tbody>\n",
       "</table>\n"
      ],
      "text/latex": [
       "A tibble: 4 × 2\n",
       "\\begin{tabular}{ll}\n",
       " type & Win \\%\\\\\n",
       " <chr> & <dbl>\\\\\n",
       "\\hline\n",
       "\t chocolate           & 61.25\\\\\n",
       "\t chocolate and fruit & 48.98\\\\\n",
       "\t fruit-flavored      & 43.99\\\\\n",
       "\t unspecified         & 35.93\\\\\n",
       "\\end{tabular}\n"
      ],
      "text/markdown": [
       "\n",
       "A tibble: 4 × 2\n",
       "\n",
       "| type &lt;chr&gt; | Win % &lt;dbl&gt; |\n",
       "|---|---|\n",
       "| chocolate           | 61.25 |\n",
       "| chocolate and fruit | 48.98 |\n",
       "| fruit-flavored      | 43.99 |\n",
       "| unspecified         | 35.93 |\n",
       "\n"
      ],
      "text/plain": [
       "  type                Win %\n",
       "1 chocolate           61.25\n",
       "2 chocolate and fruit 48.98\n",
       "3 fruit-flavored      43.99\n",
       "4 unspecified         35.93"
      ]
     },
     "metadata": {},
     "output_type": "display_data"
    }
   ],
   "source": [
    "candy %>% \n",
    "  group_by(type) %>% \n",
    "  summarise(\"Win %\" = round(mean(winpercent), digits = 2))"
   ]
  },
  {
   "cell_type": "markdown",
   "id": "1051b6e4-de26-4466-883b-242f44a42908",
   "metadata": {},
   "source": [
    "#### **Form**"
   ]
  },
  {
   "cell_type": "code",
   "execution_count": 231,
   "id": "a579e537-f675-439f-808d-8b1ad8cd3aaa",
   "metadata": {},
   "outputs": [
    {
     "data": {
      "text/html": [
       "<table class=\"dataframe\">\n",
       "<caption>A tibble: 2 × 2</caption>\n",
       "<thead>\n",
       "\t<tr><th scope=col>form</th><th scope=col>Win %</th></tr>\n",
       "\t<tr><th scope=col>&lt;chr&gt;</th><th scope=col>&lt;dbl&gt;</th></tr>\n",
       "</thead>\n",
       "<tbody>\n",
       "\t<tr><td>bar    </td><td>61.30</td></tr>\n",
       "\t<tr><td>non-bar</td><td>46.71</td></tr>\n",
       "</tbody>\n",
       "</table>\n"
      ],
      "text/latex": [
       "A tibble: 2 × 2\n",
       "\\begin{tabular}{ll}\n",
       " form & Win \\%\\\\\n",
       " <chr> & <dbl>\\\\\n",
       "\\hline\n",
       "\t bar     & 61.30\\\\\n",
       "\t non-bar & 46.71\\\\\n",
       "\\end{tabular}\n"
      ],
      "text/markdown": [
       "\n",
       "A tibble: 2 × 2\n",
       "\n",
       "| form &lt;chr&gt; | Win % &lt;dbl&gt; |\n",
       "|---|---|\n",
       "| bar     | 61.30 |\n",
       "| non-bar | 46.71 |\n",
       "\n"
      ],
      "text/plain": [
       "  form    Win %\n",
       "1 bar     61.30\n",
       "2 non-bar 46.71"
      ]
     },
     "metadata": {},
     "output_type": "display_data"
    }
   ],
   "source": [
    "candy %>% \n",
    "  group_by(form) %>% \n",
    "  summarise(\"Win %\" = round(mean(winpercent), digits = 2))"
   ]
  },
  {
   "cell_type": "markdown",
   "id": "cc06f3de-cb46-4df6-83ed-6153c79bca0f",
   "metadata": {},
   "source": [
    "#### **Filling**"
   ]
  },
  {
   "cell_type": "code",
   "execution_count": 233,
   "id": "662767ff-5447-46f6-bb99-e5fc24cce070",
   "metadata": {},
   "outputs": [
    {
     "data": {
      "text/html": [
       "<table class=\"dataframe\">\n",
       "<caption>A tibble: 6 × 2</caption>\n",
       "<thead>\n",
       "\t<tr><th scope=col>filling</th><th scope=col>Win %</th></tr>\n",
       "\t<tr><th scope=col>&lt;chr&gt;</th><th scope=col>&lt;dbl&gt;</th></tr>\n",
       "</thead>\n",
       "<tbody>\n",
       "\t<tr><td>candy with caramel                       </td><td>46.75</td></tr>\n",
       "\t<tr><td>candy with caramel and crisped rice/wafer</td><td>69.38</td></tr>\n",
       "\t<tr><td>candy with caramel and nougat            </td><td>66.87</td></tr>\n",
       "\t<tr><td>candy with crisped rice/wafer            </td><td>63.76</td></tr>\n",
       "\t<tr><td>candy with nougat                        </td><td>50.96</td></tr>\n",
       "\t<tr><td>regular candy                            </td><td>47.91</td></tr>\n",
       "</tbody>\n",
       "</table>\n"
      ],
      "text/latex": [
       "A tibble: 6 × 2\n",
       "\\begin{tabular}{ll}\n",
       " filling & Win \\%\\\\\n",
       " <chr> & <dbl>\\\\\n",
       "\\hline\n",
       "\t candy with caramel                        & 46.75\\\\\n",
       "\t candy with caramel and crisped rice/wafer & 69.38\\\\\n",
       "\t candy with caramel and nougat             & 66.87\\\\\n",
       "\t candy with crisped rice/wafer             & 63.76\\\\\n",
       "\t candy with nougat                         & 50.96\\\\\n",
       "\t regular candy                             & 47.91\\\\\n",
       "\\end{tabular}\n"
      ],
      "text/markdown": [
       "\n",
       "A tibble: 6 × 2\n",
       "\n",
       "| filling &lt;chr&gt; | Win % &lt;dbl&gt; |\n",
       "|---|---|\n",
       "| candy with caramel                        | 46.75 |\n",
       "| candy with caramel and crisped rice/wafer | 69.38 |\n",
       "| candy with caramel and nougat             | 66.87 |\n",
       "| candy with crisped rice/wafer             | 63.76 |\n",
       "| candy with nougat                         | 50.96 |\n",
       "| regular candy                             | 47.91 |\n",
       "\n"
      ],
      "text/plain": [
       "  filling                                   Win %\n",
       "1 candy with caramel                        46.75\n",
       "2 candy with caramel and crisped rice/wafer 69.38\n",
       "3 candy with caramel and nougat             66.87\n",
       "4 candy with crisped rice/wafer             63.76\n",
       "5 candy with nougat                         50.96\n",
       "6 regular candy                             47.91"
      ]
     },
     "metadata": {},
     "output_type": "display_data"
    }
   ],
   "source": [
    "candy %>% \n",
    "  group_by(filling) %>% \n",
    "  summarise(\"Win %\" = round(mean(winpercent), digits = 2))"
   ]
  },
  {
   "cell_type": "markdown",
   "id": "02019368-1eec-4a1c-b020-4c59d67f958d",
   "metadata": {},
   "source": [
    "#### **Packaging**"
   ]
  },
  {
   "cell_type": "code",
   "execution_count": 235,
   "id": "b1a77486-831f-48aa-bc10-806afca5e72a",
   "metadata": {},
   "outputs": [
    {
     "data": {
      "text/html": [
       "<table class=\"dataframe\">\n",
       "<caption>A tibble: 2 × 2</caption>\n",
       "<thead>\n",
       "\t<tr><th scope=col>packaging</th><th scope=col>Win %</th></tr>\n",
       "\t<tr><th scope=col>&lt;chr&gt;</th><th scope=col>&lt;dbl&gt;</th></tr>\n",
       "</thead>\n",
       "<tbody>\n",
       "\t<tr><td>in a bag/box    </td><td>46.82</td></tr>\n",
       "\t<tr><td>in a single-pack</td><td>54.07</td></tr>\n",
       "</tbody>\n",
       "</table>\n"
      ],
      "text/latex": [
       "A tibble: 2 × 2\n",
       "\\begin{tabular}{ll}\n",
       " packaging & Win \\%\\\\\n",
       " <chr> & <dbl>\\\\\n",
       "\\hline\n",
       "\t in a bag/box     & 46.82\\\\\n",
       "\t in a single-pack & 54.07\\\\\n",
       "\\end{tabular}\n"
      ],
      "text/markdown": [
       "\n",
       "A tibble: 2 × 2\n",
       "\n",
       "| packaging &lt;chr&gt; | Win % &lt;dbl&gt; |\n",
       "|---|---|\n",
       "| in a bag/box     | 46.82 |\n",
       "| in a single-pack | 54.07 |\n",
       "\n"
      ],
      "text/plain": [
       "  packaging        Win %\n",
       "1 in a bag/box     46.82\n",
       "2 in a single-pack 54.07"
      ]
     },
     "metadata": {},
     "output_type": "display_data"
    }
   ],
   "source": [
    "candy %>% \n",
    "  group_by(packaging) %>% \n",
    "  summarise(\"Win %\" = round(mean(winpercent), digits = 2))"
   ]
  },
  {
   "cell_type": "markdown",
   "id": "3aaec310-e6c1-41b8-949f-ca1253232802",
   "metadata": {},
   "source": [
    "Let's take a look at the results per categorical variable: \n",
    "\n",
    "- **texture:** *soft*\n",
    "- **with_nuts:** *with nuts*\n",
    "- **type:** *chocolate*\n",
    "- **form:** *bar*\n",
    "- **filling:** *candy with caramel and crisped rice/wafer*\n",
    "- **packaging:** *in a single-pack*\n",
    "\n",
    "Next step is to identify a candy that falls with this description.\n",
    "***soft nutty chocolate bar candy with caramel and crisped rice/wafer in a single-pack***"
   ]
  },
  {
   "cell_type": "code",
   "execution_count": 237,
   "id": "9d635696-46bf-4869-9da5-e2693d4bda12",
   "metadata": {},
   "outputs": [
    {
     "data": {
      "text/html": [
       "<table class=\"dataframe\">\n",
       "<caption>A tibble: 1 × 6</caption>\n",
       "<thead>\n",
       "\t<tr><th scope=col>brand</th><th scope=col>winpercent</th><th scope=col>sugarpercent</th><th scope=col>pricepercent</th><th scope=col>description</th><th scope=col>total</th></tr>\n",
       "\t<tr><th scope=col>&lt;chr&gt;</th><th scope=col>&lt;dbl&gt;</th><th scope=col>&lt;dbl&gt;</th><th scope=col>&lt;dbl&gt;</th><th scope=col>&lt;chr&gt;</th><th scope=col>&lt;int&gt;</th></tr>\n",
       "</thead>\n",
       "<tbody>\n",
       "\t<tr><td>Snickers Crisper</td><td>59.53</td><td>60.4</td><td>65.1</td><td>soft nutty chocolate bar candy with caramel and crisped rice/wafer in a single-pack</td><td>1</td></tr>\n",
       "</tbody>\n",
       "</table>\n"
      ],
      "text/latex": [
       "A tibble: 1 × 6\n",
       "\\begin{tabular}{llllll}\n",
       " brand & winpercent & sugarpercent & pricepercent & description & total\\\\\n",
       " <chr> & <dbl> & <dbl> & <dbl> & <chr> & <int>\\\\\n",
       "\\hline\n",
       "\t Snickers Crisper & 59.53 & 60.4 & 65.1 & soft nutty chocolate bar candy with caramel and crisped rice/wafer in a single-pack & 1\\\\\n",
       "\\end{tabular}\n"
      ],
      "text/markdown": [
       "\n",
       "A tibble: 1 × 6\n",
       "\n",
       "| brand &lt;chr&gt; | winpercent &lt;dbl&gt; | sugarpercent &lt;dbl&gt; | pricepercent &lt;dbl&gt; | description &lt;chr&gt; | total &lt;int&gt; |\n",
       "|---|---|---|---|---|---|\n",
       "| Snickers Crisper | 59.53 | 60.4 | 65.1 | soft nutty chocolate bar candy with caramel and crisped rice/wafer in a single-pack | 1 |\n",
       "\n"
      ],
      "text/plain": [
       "  brand            winpercent sugarpercent pricepercent\n",
       "1 Snickers Crisper 59.53      60.4         65.1        \n",
       "  description                                                                        \n",
       "1 soft nutty chocolate bar candy with caramel and crisped rice/wafer in a single-pack\n",
       "  total\n",
       "1 1    "
      ]
     },
     "metadata": {},
     "output_type": "display_data"
    }
   ],
   "source": [
    "candy %>%\n",
    "  filter(description == \"soft nutty chocolate bar candy with caramel and crisped rice/wafer in a single-pack\") %>%\n",
    "  group_by(brand, winpercent, \n",
    "           sugarpercent, \n",
    "           pricepercent,\n",
    "           description) %>%\n",
    "  summarise(total = n(), .groups = \"drop\")\n"
   ]
  },
  {
   "cell_type": "markdown",
   "id": "d879f62f-c505-42ab-a282-74cfcf827acb",
   "metadata": {},
   "source": [
    "The result showed only one candy with that description, **Snickers Crisper.**\n",
    "\n",
    "*This is interesting as the* **winpercent, sugarpercent** *and* **pricepercent** *are all at the* **mid level.** \n",
    "\n",
    "**This gets me thinking:**\n",
    "*\"What's the relationship between sugarpercent and pricepercent?\"*"
   ]
  },
  {
   "cell_type": "markdown",
   "id": "a456f729-d6ad-410a-88b8-c4f3df9521a2",
   "metadata": {},
   "source": [
    "### **D. Refined Analysis**\n",
    "Let's plot **sugarpercent** and **pricepercent** on a *scatterplot.*"
   ]
  },
  {
   "cell_type": "code",
   "execution_count": 239,
   "id": "7e6683e0-55d7-4a13-add7-115b6288c28e",
   "metadata": {},
   "outputs": [
    {
     "data": {
      "image/png": "[encoded data removed]",
      "text/plain": [
       "plot without title"
      ]
     },
     "metadata": {
      "image/png": {
       "height": 420,
       "width": 420
      }
     },
     "output_type": "display_data"
    }
   ],
   "source": [
    "candy %>% \n",
    "  ggplot(aes(pricepercent, sugarpercent)) +\n",
    "  geom_point()"
   ]
  },
  {
   "cell_type": "markdown",
   "id": "e11fbb96-a611-40ad-b4f2-628776f4f125",
   "metadata": {},
   "source": [
    "I'm considering categorizing each candy based on its position within  a **quadrant.**\n",
    "\n",
    "#### **How do we do the groupings?**\n",
    "For **sugarpercent,** I will use **Healthy** for values below 50 and **Unhealthy** for values 50 and above. Similarly, for **pricepercent,** the categories would be **Inexpensive** for values below 50 and **Expensive** for values 50 and above. \n",
    "\n",
    "Let's create a new table that includes these categories with the following columns: \n",
    "- **sugar_reco:** for the sugar category\n",
    "- **price_reco:** for the price category\n",
    "- **quadrant:** a column combining these 2 categories."
   ]
  },
  {
   "cell_type": "code",
   "execution_count": 241,
   "id": "f22d5b97-2083-4469-b449-071ce9f3e90b",
   "metadata": {},
   "outputs": [],
   "source": [
    "candy_group <- candy %>% \n",
    "  mutate(sugar_reco = \n",
    "           if_else(sugarpercent >= 50,\"Unhealthy\", \"Healthy\")) %>% \n",
    "  mutate(price_reco =\n",
    "           if_else(pricepercent >= 50, \"Expensive\", \"Inexpensive\")) %>% \n",
    "  mutate(quadrant =\n",
    "           case_when(sugarpercent >= 50 & pricepercent >= 50 ~ \"Unhealthy and Expensive\", \n",
    "                     sugarpercent >= 50 & pricepercent < 50 ~ \"Unhealthy but Inexpensive\",\n",
    "                     sugarpercent < 50 & pricepercent >= 50 ~ \"Healthy and Expensive\",\n",
    "                     sugarpercent < 50 & pricepercent < 50 ~ \"Healthy and Inexpensive\"))"
   ]
  },
  {
   "cell_type": "markdown",
   "id": "c04e42ed-61a1-46b2-a8dd-b009b362ff69",
   "metadata": {},
   "source": [
    "Let's visualize the quadrant"
   ]
  },
  {
   "cell_type": "code",
   "execution_count": 243,
   "id": "58e1ebd6-85ca-44f3-8d28-d9b9ca79ea5a",
   "metadata": {},
   "outputs": [
    {
     "data": {
      "image/png": "[encoded data removed]",
      "text/plain": [
       "plot without title"
      ]
     },
     "metadata": {
      "image/png": {
       "height": 420,
       "width": 420
      }
     },
     "output_type": "display_data"
    }
   ],
   "source": [
    "candy_group %>% \n",
    "  ggplot(aes(sugarpercent, pricepercent, colour = quadrant)) +\n",
    "  geom_point() +\n",
    "  facet_grid(price_reco ~ sugar_reco) +\n",
    "  labs(title = \"Candy Groupings\") + \n",
    "  theme(legend.position = \"None\")"
   ]
  },
  {
   "cell_type": "markdown",
   "id": "84cd60d3-8b0a-4147-bd3d-0c504a88743a",
   "metadata": {},
   "source": [
    "Now this is interesting, I now have 4 groups and I have to decide which one to use.\n",
    "\n",
    "- **Healthy and Expensive**\n",
    "- **Healthy and Inexpensive**\n",
    "- **Unhealthy and Expensive**\n",
    "- **Unhealthy and Inexpensive**\n",
    "\n",
    "Let's go back to the **problem statement** and break it down to parts. \n",
    "\n",
    "\"Find the **3 treats** you'll give out on Halloween to guarantee that trick-or-treaters of **all tastes** find something they'll love and will make you the **most popular house on the block.**\"\n",
    "\n",
    "- Find the **3 treats**\n",
    "- Guarantee that **all tastes** find something\n",
    "- Become the **most popular treat-or-treating house** on the block\n",
    "\n",
    "I'll focus on the 3rd item first so I will be able to choose which quadrant to go for. \n",
    "\n",
    "#### ***How can you become the most popular house in the block?***\n",
    "\n",
    "To answer this question, we need to accomplish 2 things: \n",
    "\n",
    "- appeal to the **taste of the children**\n",
    "- appeal to the **taste of the parents/guardians**\n",
    "\n",
    "#### **How do we do this?**\n",
    "- **For the children,** we need to find the **best tasting** *= highest winpercent*\n",
    "- **For the parents,** we need to find 2 things:\n",
    "    - **most expensive** candies will give you a strong status within your neighborhood as the person who gives out expensive candies. *=highest pricepercent*\n",
    "    - **healthiest** candies will also bring more fame to your house as you promote and prioritize health. *=lowest sugarpercent*"
   ]
  },
  {
   "cell_type": "markdown",
   "id": "0b9780a6-9d0c-4d27-8513-8bbc5f2c6449",
   "metadata": {},
   "source": [
    "### **Lowest sugarpercent & Highest pricepercent** = Healthy & Expensive\n",
    "\n",
    "Let's check how many candies fall under **Healthy & Expensive** compared with the other quadrant."
   ]
  },
  {
   "cell_type": "code",
   "execution_count": 245,
   "id": "62f600f5-31bf-4285-a4ab-7efd95e06029",
   "metadata": {},
   "outputs": [
    {
     "data": {
      "text/html": [
       "<table class=\"dataframe\">\n",
       "<caption>A tibble: 4 × 5</caption>\n",
       "<thead>\n",
       "\t<tr><th scope=col>quadrant</th><th scope=col>Total Count</th><th scope=col>Win% Mean</th><th scope=col>Sugar% Mean</th><th scope=col>Price% Mean</th></tr>\n",
       "\t<tr><th scope=col>&lt;chr&gt;</th><th scope=col>&lt;int&gt;</th><th scope=col>&lt;dbl&gt;</th><th scope=col>&lt;dbl&gt;</th><th scope=col>&lt;dbl&gt;</th></tr>\n",
       "</thead>\n",
       "<tbody>\n",
       "\t<tr><td>Healthy and Expensive    </td><td>18</td><td>50.39</td><td>30.95</td><td>72.29</td></tr>\n",
       "\t<tr><td>Healthy and Inexpensive  </td><td>28</td><td>45.21</td><td>22.04</td><td>21.60</td></tr>\n",
       "\t<tr><td>Unhealthy and Expensive  </td><td>24</td><td>59.66</td><td>72.38</td><td>70.65</td></tr>\n",
       "\t<tr><td>Unhealthy but Inexpensive</td><td>15</td><td>44.81</td><td>77.15</td><td>25.60</td></tr>\n",
       "</tbody>\n",
       "</table>\n"
      ],
      "text/latex": [
       "A tibble: 4 × 5\n",
       "\\begin{tabular}{lllll}\n",
       " quadrant & Total Count & Win\\% Mean & Sugar\\% Mean & Price\\% Mean\\\\\n",
       " <chr> & <int> & <dbl> & <dbl> & <dbl>\\\\\n",
       "\\hline\n",
       "\t Healthy and Expensive     & 18 & 50.39 & 30.95 & 72.29\\\\\n",
       "\t Healthy and Inexpensive   & 28 & 45.21 & 22.04 & 21.60\\\\\n",
       "\t Unhealthy and Expensive   & 24 & 59.66 & 72.38 & 70.65\\\\\n",
       "\t Unhealthy but Inexpensive & 15 & 44.81 & 77.15 & 25.60\\\\\n",
       "\\end{tabular}\n"
      ],
      "text/markdown": [
       "\n",
       "A tibble: 4 × 5\n",
       "\n",
       "| quadrant &lt;chr&gt; | Total Count &lt;int&gt; | Win% Mean &lt;dbl&gt; | Sugar% Mean &lt;dbl&gt; | Price% Mean &lt;dbl&gt; |\n",
       "|---|---|---|---|---|\n",
       "| Healthy and Expensive     | 18 | 50.39 | 30.95 | 72.29 |\n",
       "| Healthy and Inexpensive   | 28 | 45.21 | 22.04 | 21.60 |\n",
       "| Unhealthy and Expensive   | 24 | 59.66 | 72.38 | 70.65 |\n",
       "| Unhealthy but Inexpensive | 15 | 44.81 | 77.15 | 25.60 |\n",
       "\n"
      ],
      "text/plain": [
       "  quadrant                  Total Count Win% Mean Sugar% Mean Price% Mean\n",
       "1 Healthy and Expensive     18          50.39     30.95       72.29      \n",
       "2 Healthy and Inexpensive   28          45.21     22.04       21.60      \n",
       "3 Unhealthy and Expensive   24          59.66     72.38       70.65      \n",
       "4 Unhealthy but Inexpensive 15          44.81     77.15       25.60      "
      ]
     },
     "metadata": {},
     "output_type": "display_data"
    }
   ],
   "source": [
    "candy_group %>% \n",
    "  group_by(quadrant) %>% \n",
    "  summarise(\"Total Count\" = n(),\n",
    "           \"Win% Mean\" = round(mean(winpercent), digits = 2),\n",
    "           \"Sugar% Mean\" = round(mean(sugarpercent), digits = 2),\n",
    "           \"Price% Mean\" = round(mean(pricepercent), digits = 2))"
   ]
  },
  {
   "cell_type": "markdown",
   "id": "f5f71544-fd8d-4e04-a08d-f9f8de4e28c2",
   "metadata": {},
   "source": [
    "I see that the **Win% Mean** of **Healthy and Expensive** is way higher than the **Healthy and Inexpensive** and **Unhealthy but Inexpensive** but way lower than the **Unhealthy and Expensive** candies. **Sugar% Mean** is 8 points higher than **Healthy and Inexpensive** which is a pretty slim difference. The **Price% Mean** is expectedly the **highest** amongst the group. \n",
    "\n",
    "Let compare it with the overall table."
   ]
  },
  {
   "cell_type": "code",
   "execution_count": 247,
   "id": "d63fec48-62a3-4f38-b998-e80ee9165a12",
   "metadata": {},
   "outputs": [
    {
     "data": {
      "text/html": [
       "<table class=\"dataframe\">\n",
       "<caption>A data.frame: 1 × 4</caption>\n",
       "<thead>\n",
       "\t<tr><th scope=col>Total Count</th><th scope=col>Win% Mean</th><th scope=col>Sugar% Mean</th><th scope=col>Price% Mean</th></tr>\n",
       "\t<tr><th scope=col>&lt;int&gt;</th><th scope=col>&lt;dbl&gt;</th><th scope=col>&lt;dbl&gt;</th><th scope=col>&lt;dbl&gt;</th></tr>\n",
       "</thead>\n",
       "<tbody>\n",
       "\t<tr><td>85</td><td>50.32</td><td>47.86</td><td>46.89</td></tr>\n",
       "</tbody>\n",
       "</table>\n"
      ],
      "text/latex": [
       "A data.frame: 1 × 4\n",
       "\\begin{tabular}{llll}\n",
       " Total Count & Win\\% Mean & Sugar\\% Mean & Price\\% Mean\\\\\n",
       " <int> & <dbl> & <dbl> & <dbl>\\\\\n",
       "\\hline\n",
       "\t 85 & 50.32 & 47.86 & 46.89\\\\\n",
       "\\end{tabular}\n"
      ],
      "text/markdown": [
       "\n",
       "A data.frame: 1 × 4\n",
       "\n",
       "| Total Count &lt;int&gt; | Win% Mean &lt;dbl&gt; | Sugar% Mean &lt;dbl&gt; | Price% Mean &lt;dbl&gt; |\n",
       "|---|---|---|---|\n",
       "| 85 | 50.32 | 47.86 | 46.89 |\n",
       "\n"
      ],
      "text/plain": [
       "  Total Count Win% Mean Sugar% Mean Price% Mean\n",
       "1 85          50.32     47.86       46.89      "
      ]
     },
     "metadata": {},
     "output_type": "display_data"
    }
   ],
   "source": [
    "candy %>%\n",
    "  summarise(\"Total Count\" = n(),\n",
    "            \"Win% Mean\" = round(mean(winpercent), digits = 2),\n",
    "            \"Sugar% Mean\" = round(mean(sugarpercent), digits = 2),\n",
    "            \"Price% Mean\" = round(mean(pricepercent), digits =2))"
   ]
  },
  {
   "cell_type": "markdown",
   "id": "01578e91-c567-41b7-81e4-c3c1b2ee029c",
   "metadata": {},
   "source": [
    "If we compare the results of the **Healthy and Expensive** quadrant versus **Overall**, **Win% Mean** is almost the same, which is a good thing. **Sugar% Mean** of the **Healthy and Expensive** is expectedly **lower** and **Price% Mean** is of course, expectedly **higher.**\n",
    "\n",
    "This now let's me conclude that the **Healthy and Expensive** quadrant is the best group to use for my recommendation later.\n",
    "\n",
    "Let's look at the list of **Healthy and Expensive** candies."
   ]
  },
  {
   "cell_type": "code",
   "execution_count": 249,
   "id": "f3689fe2-61c2-4038-85d2-5a4b4f1061c8",
   "metadata": {},
   "outputs": [
    {
     "data": {
      "text/html": [
       "<table class=\"dataframe\">\n",
       "<caption>A data.frame: 18 × 5</caption>\n",
       "<thead>\n",
       "\t<tr><th scope=col>brand</th><th scope=col>winpercent</th><th scope=col>pricepercent</th><th scope=col>sugarpercent</th><th scope=col>description</th></tr>\n",
       "\t<tr><th scope=col>&lt;chr&gt;</th><th scope=col>&lt;dbl&gt;</th><th scope=col>&lt;dbl&gt;</th><th scope=col>&lt;dbl&gt;</th><th scope=col>&lt;chr&gt;</th></tr>\n",
       "</thead>\n",
       "<tbody>\n",
       "\t<tr><td>Kit Kat                 </td><td>76.77</td><td>51.1</td><td>31.3</td><td>soft chocolate bar candy with crisped rice/wafer in a single-pack</td></tr>\n",
       "\t<tr><td>Reese's pieces          </td><td>73.43</td><td>65.1</td><td>40.6</td><td>soft nutty chocolate non-bar regular candy in a bag/box          </td></tr>\n",
       "\t<tr><td>Nestle Crunch           </td><td>66.47</td><td>76.7</td><td>31.3</td><td>soft chocolate bar candy with crisped rice/wafer in a single-pack</td></tr>\n",
       "\t<tr><td>Hershey's Krackel       </td><td>62.28</td><td>91.8</td><td>43.0</td><td>soft chocolate bar candy with crisped rice/wafer in a single-pack</td></tr>\n",
       "\t<tr><td>Hershey's Special Dark  </td><td>59.24</td><td>91.8</td><td>43.0</td><td>soft chocolate bar regular candy in a single-pack                </td></tr>\n",
       "\t<tr><td>Junior Mints            </td><td>57.22</td><td>51.1</td><td>19.7</td><td>soft chocolate non-bar regular candy in a bag/box                </td></tr>\n",
       "\t<tr><td>Hershey's Milk Chocolate</td><td>56.49</td><td>91.8</td><td>43.0</td><td>soft chocolate bar regular candy in a single-pack                </td></tr>\n",
       "\t<tr><td>Milk Duds               </td><td>55.06</td><td>51.1</td><td>30.2</td><td>soft chocolate non-bar candy with caramel in a bag/box           </td></tr>\n",
       "\t<tr><td>Mr Good Bar             </td><td>54.53</td><td>91.8</td><td>31.3</td><td>soft nutty chocolate bar regular candy in a single-pack          </td></tr>\n",
       "\t<tr><td>Almond Joy              </td><td>50.35</td><td>76.7</td><td>46.5</td><td>soft nutty chocolate bar regular candy in a single-pack          </td></tr>\n",
       "\t<tr><td>Mounds                  </td><td>47.83</td><td>86.0</td><td>31.3</td><td>soft chocolate bar regular candy in a single-pack                </td></tr>\n",
       "\t<tr><td>Payday                  </td><td>46.30</td><td>76.7</td><td>46.5</td><td>soft nutty bar candy with nougat in a single-pack                </td></tr>\n",
       "\t<tr><td>One quarter             </td><td>46.12</td><td>51.1</td><td> 1.1</td><td>soft non-bar regular candy in a single-pack                      </td></tr>\n",
       "\t<tr><td>Tootsie Roll Juniors    </td><td>43.07</td><td>51.1</td><td>31.3</td><td>soft chocolate non-bar regular candy in a single-pack            </td></tr>\n",
       "\t<tr><td>Nestle Smarties         </td><td>37.89</td><td>97.6</td><td>26.7</td><td>soft chocolate non-bar regular candy in a bag/box                </td></tr>\n",
       "\t<tr><td>Jawbusters              </td><td>28.13</td><td>51.1</td><td> 9.3</td><td>hard fruit-flavored non-bar regular candy in a bag/box           </td></tr>\n",
       "\t<tr><td>Boston Baked Beans      </td><td>23.42</td><td>51.1</td><td>31.3</td><td>soft nutty non-bar regular candy in a bag/box                    </td></tr>\n",
       "\t<tr><td>Nik L Nip               </td><td>22.45</td><td>97.6</td><td>19.7</td><td>soft fruit-flavored non-bar regular candy in a bag/box           </td></tr>\n",
       "</tbody>\n",
       "</table>\n"
      ],
      "text/latex": [
       "A data.frame: 18 × 5\n",
       "\\begin{tabular}{lllll}\n",
       " brand & winpercent & pricepercent & sugarpercent & description\\\\\n",
       " <chr> & <dbl> & <dbl> & <dbl> & <chr>\\\\\n",
       "\\hline\n",
       "\t Kit Kat                  & 76.77 & 51.1 & 31.3 & soft chocolate bar candy with crisped rice/wafer in a single-pack\\\\\n",
       "\t Reese's pieces           & 73.43 & 65.1 & 40.6 & soft nutty chocolate non-bar regular candy in a bag/box          \\\\\n",
       "\t Nestle Crunch            & 66.47 & 76.7 & 31.3 & soft chocolate bar candy with crisped rice/wafer in a single-pack\\\\\n",
       "\t Hershey's Krackel        & 62.28 & 91.8 & 43.0 & soft chocolate bar candy with crisped rice/wafer in a single-pack\\\\\n",
       "\t Hershey's Special Dark   & 59.24 & 91.8 & 43.0 & soft chocolate bar regular candy in a single-pack                \\\\\n",
       "\t Junior Mints             & 57.22 & 51.1 & 19.7 & soft chocolate non-bar regular candy in a bag/box                \\\\\n",
       "\t Hershey's Milk Chocolate & 56.49 & 91.8 & 43.0 & soft chocolate bar regular candy in a single-pack                \\\\\n",
       "\t Milk Duds                & 55.06 & 51.1 & 30.2 & soft chocolate non-bar candy with caramel in a bag/box           \\\\\n",
       "\t Mr Good Bar              & 54.53 & 91.8 & 31.3 & soft nutty chocolate bar regular candy in a single-pack          \\\\\n",
       "\t Almond Joy               & 50.35 & 76.7 & 46.5 & soft nutty chocolate bar regular candy in a single-pack          \\\\\n",
       "\t Mounds                   & 47.83 & 86.0 & 31.3 & soft chocolate bar regular candy in a single-pack                \\\\\n",
       "\t Payday                   & 46.30 & 76.7 & 46.5 & soft nutty bar candy with nougat in a single-pack                \\\\\n",
       "\t One quarter              & 46.12 & 51.1 &  1.1 & soft non-bar regular candy in a single-pack                      \\\\\n",
       "\t Tootsie Roll Juniors     & 43.07 & 51.1 & 31.3 & soft chocolate non-bar regular candy in a single-pack            \\\\\n",
       "\t Nestle Smarties          & 37.89 & 97.6 & 26.7 & soft chocolate non-bar regular candy in a bag/box                \\\\\n",
       "\t Jawbusters               & 28.13 & 51.1 &  9.3 & hard fruit-flavored non-bar regular candy in a bag/box           \\\\\n",
       "\t Boston Baked Beans       & 23.42 & 51.1 & 31.3 & soft nutty non-bar regular candy in a bag/box                    \\\\\n",
       "\t Nik L Nip                & 22.45 & 97.6 & 19.7 & soft fruit-flavored non-bar regular candy in a bag/box           \\\\\n",
       "\\end{tabular}\n"
      ],
      "text/markdown": [
       "\n",
       "A data.frame: 18 × 5\n",
       "\n",
       "| brand &lt;chr&gt; | winpercent &lt;dbl&gt; | pricepercent &lt;dbl&gt; | sugarpercent &lt;dbl&gt; | description &lt;chr&gt; |\n",
       "|---|---|---|---|---|\n",
       "| Kit Kat                  | 76.77 | 51.1 | 31.3 | soft chocolate bar candy with crisped rice/wafer in a single-pack |\n",
       "| Reese's pieces           | 73.43 | 65.1 | 40.6 | soft nutty chocolate non-bar regular candy in a bag/box           |\n",
       "| Nestle Crunch            | 66.47 | 76.7 | 31.3 | soft chocolate bar candy with crisped rice/wafer in a single-pack |\n",
       "| Hershey's Krackel        | 62.28 | 91.8 | 43.0 | soft chocolate bar candy with crisped rice/wafer in a single-pack |\n",
       "| Hershey's Special Dark   | 59.24 | 91.8 | 43.0 | soft chocolate bar regular candy in a single-pack                 |\n",
       "| Junior Mints             | 57.22 | 51.1 | 19.7 | soft chocolate non-bar regular candy in a bag/box                 |\n",
       "| Hershey's Milk Chocolate | 56.49 | 91.8 | 43.0 | soft chocolate bar regular candy in a single-pack                 |\n",
       "| Milk Duds                | 55.06 | 51.1 | 30.2 | soft chocolate non-bar candy with caramel in a bag/box            |\n",
       "| Mr Good Bar              | 54.53 | 91.8 | 31.3 | soft nutty chocolate bar regular candy in a single-pack           |\n",
       "| Almond Joy               | 50.35 | 76.7 | 46.5 | soft nutty chocolate bar regular candy in a single-pack           |\n",
       "| Mounds                   | 47.83 | 86.0 | 31.3 | soft chocolate bar regular candy in a single-pack                 |\n",
       "| Payday                   | 46.30 | 76.7 | 46.5 | soft nutty bar candy with nougat in a single-pack                 |\n",
       "| One quarter              | 46.12 | 51.1 |  1.1 | soft non-bar regular candy in a single-pack                       |\n",
       "| Tootsie Roll Juniors     | 43.07 | 51.1 | 31.3 | soft chocolate non-bar regular candy in a single-pack             |\n",
       "| Nestle Smarties          | 37.89 | 97.6 | 26.7 | soft chocolate non-bar regular candy in a bag/box                 |\n",
       "| Jawbusters               | 28.13 | 51.1 |  9.3 | hard fruit-flavored non-bar regular candy in a bag/box            |\n",
       "| Boston Baked Beans       | 23.42 | 51.1 | 31.3 | soft nutty non-bar regular candy in a bag/box                     |\n",
       "| Nik L Nip                | 22.45 | 97.6 | 19.7 | soft fruit-flavored non-bar regular candy in a bag/box            |\n",
       "\n"
      ],
      "text/plain": [
       "   brand                    winpercent pricepercent sugarpercent\n",
       "1  Kit Kat                  76.77      51.1         31.3        \n",
       "2  Reese's pieces           73.43      65.1         40.6        \n",
       "3  Nestle Crunch            66.47      76.7         31.3        \n",
       "4  Hershey's Krackel        62.28      91.8         43.0        \n",
       "5  Hershey's Special Dark   59.24      91.8         43.0        \n",
       "6  Junior Mints             57.22      51.1         19.7        \n",
       "7  Hershey's Milk Chocolate 56.49      91.8         43.0        \n",
       "8  Milk Duds                55.06      51.1         30.2        \n",
       "9  Mr Good Bar              54.53      91.8         31.3        \n",
       "10 Almond Joy               50.35      76.7         46.5        \n",
       "11 Mounds                   47.83      86.0         31.3        \n",
       "12 Payday                   46.30      76.7         46.5        \n",
       "13 One quarter              46.12      51.1          1.1        \n",
       "14 Tootsie Roll Juniors     43.07      51.1         31.3        \n",
       "15 Nestle Smarties          37.89      97.6         26.7        \n",
       "16 Jawbusters               28.13      51.1          9.3        \n",
       "17 Boston Baked Beans       23.42      51.1         31.3        \n",
       "18 Nik L Nip                22.45      97.6         19.7        \n",
       "   description                                                      \n",
       "1  soft chocolate bar candy with crisped rice/wafer in a single-pack\n",
       "2  soft nutty chocolate non-bar regular candy in a bag/box          \n",
       "3  soft chocolate bar candy with crisped rice/wafer in a single-pack\n",
       "4  soft chocolate bar candy with crisped rice/wafer in a single-pack\n",
       "5  soft chocolate bar regular candy in a single-pack                \n",
       "6  soft chocolate non-bar regular candy in a bag/box                \n",
       "7  soft chocolate bar regular candy in a single-pack                \n",
       "8  soft chocolate non-bar candy with caramel in a bag/box           \n",
       "9  soft nutty chocolate bar regular candy in a single-pack          \n",
       "10 soft nutty chocolate bar regular candy in a single-pack          \n",
       "11 soft chocolate bar regular candy in a single-pack                \n",
       "12 soft nutty bar candy with nougat in a single-pack                \n",
       "13 soft non-bar regular candy in a single-pack                      \n",
       "14 soft chocolate non-bar regular candy in a single-pack            \n",
       "15 soft chocolate non-bar regular candy in a bag/box                \n",
       "16 hard fruit-flavored non-bar regular candy in a bag/box           \n",
       "17 soft nutty non-bar regular candy in a bag/box                    \n",
       "18 soft fruit-flavored non-bar regular candy in a bag/box           "
      ]
     },
     "metadata": {},
     "output_type": "display_data"
    }
   ],
   "source": [
    "candy_group  %>% \n",
    "  filter(quadrant == \"Healthy and Expensive\") %>% \n",
    "  select(brand,\n",
    "         winpercent,\n",
    "         pricepercent,\n",
    "         sugarpercent,\n",
    "         description) %>% \n",
    "  arrange(desc(winpercent), desc(pricepercent), sugarpercent)"
   ]
  },
  {
   "cell_type": "markdown",
   "id": "3abeece2-3b58-4971-92bd-1effbaa1736c",
   "metadata": {},
   "source": [
    "Let's create a new table with this list."
   ]
  },
  {
   "cell_type": "code",
   "execution_count": 251,
   "id": "0ead05bf-466b-42ca-ae71-173be352ed15",
   "metadata": {},
   "outputs": [],
   "source": [
    "candy_popular <- candy_group %>% \n",
    "  filter(quadrant == \"Healthy and Expensive\") %>% \n",
    "  arrange(desc(winpercent), desc(pricepercent), sugarpercent) %>% \n",
    "  select(brand,\n",
    "         texture,\n",
    "         with_nuts,\n",
    "         type,\n",
    "         form,\n",
    "         filling,\n",
    "         packaging,\n",
    "         winpercent,\n",
    "         pricepercent,\n",
    "         sugarpercent,\n",
    "         description,\n",
    "         quadrant) "
   ]
  },
  {
   "cell_type": "markdown",
   "id": "7dfdfeab-d25a-4aaa-b271-329f907d5767",
   "metadata": {},
   "source": [
    "Let's quickly review the table."
   ]
  },
  {
   "cell_type": "code",
   "execution_count": 253,
   "id": "26e10697-1f5f-4546-84c8-b07c635c5de1",
   "metadata": {},
   "outputs": [
    {
     "name": "stdout",
     "output_type": "stream",
     "text": [
      "Rows: 18\n",
      "Columns: 12\n",
      "$ brand        \u001b[3m\u001b[90m<chr>\u001b[39m\u001b[23m \"Kit Kat\", \"Reese's pieces\", \"Nestle Crunch\", \"Hershey's …\n",
      "$ texture      \u001b[3m\u001b[90m<chr>\u001b[39m\u001b[23m \"soft\", \"soft\", \"soft\", \"soft\", \"soft\", \"soft\", \"soft\", \"…\n",
      "$ with_nuts    \u001b[3m\u001b[90m<chr>\u001b[39m\u001b[23m \"without nuts\", \"with nuts\", \"without nuts\", \"without nut…\n",
      "$ type         \u001b[3m\u001b[90m<chr>\u001b[39m\u001b[23m \"chocolate\", \"chocolate\", \"chocolate\", \"chocolate\", \"choc…\n",
      "$ form         \u001b[3m\u001b[90m<chr>\u001b[39m\u001b[23m \"bar\", \"non-bar\", \"bar\", \"bar\", \"bar\", \"non-bar\", \"bar\", …\n",
      "$ filling      \u001b[3m\u001b[90m<chr>\u001b[39m\u001b[23m \"candy with crisped rice/wafer\", \"regular candy\", \"candy …\n",
      "$ packaging    \u001b[3m\u001b[90m<chr>\u001b[39m\u001b[23m \"in a single-pack\", \"in a bag/box\", \"in a single-pack\", \"…\n",
      "$ winpercent   \u001b[3m\u001b[90m<dbl>\u001b[39m\u001b[23m 76.77, 73.43, 66.47, 62.28, 59.24, 57.22, 56.49, 55.06, 5…\n",
      "$ pricepercent \u001b[3m\u001b[90m<dbl>\u001b[39m\u001b[23m 51.1, 65.1, 76.7, 91.8, 91.8, 51.1, 91.8, 51.1, 91.8, 76.…\n",
      "$ sugarpercent \u001b[3m\u001b[90m<dbl>\u001b[39m\u001b[23m 31.3, 40.6, 31.3, 43.0, 43.0, 19.7, 43.0, 30.2, 31.3, 46.…\n",
      "$ description  \u001b[3m\u001b[90m<chr>\u001b[39m\u001b[23m \"soft chocolate bar candy with crisped rice/wafer in a si…\n",
      "$ quadrant     \u001b[3m\u001b[90m<chr>\u001b[39m\u001b[23m \"Healthy and Expensive\", \"Healthy and Expensive\", \"Health…\n"
     ]
    }
   ],
   "source": [
    "glimpse(candy_popular)"
   ]
  },
  {
   "cell_type": "markdown",
   "id": "49f141f9-0eac-4bf3-b217-4b744e334cae",
   "metadata": {},
   "source": [
    "## Final Analysis\n",
    "\n",
    "Since I have identified the final list of candies I'll use, let's satisfy the **second objective of the problem statement.**\n",
    "\n",
    "-Guarantee that **all tastes** find something\n",
    "\n",
    "In order to do this, I have to check the different combinations of this group by looking at the description."
   ]
  },
  {
   "cell_type": "code",
   "execution_count": 255,
   "id": "d81a7e50-00ba-43d7-b4b3-7d470479a04a",
   "metadata": {},
   "outputs": [
    {
     "data": {
      "text/html": [
       "<table class=\"dataframe\">\n",
       "<caption>A tibble: 12 × 2</caption>\n",
       "<thead>\n",
       "\t<tr><th scope=col>description</th><th scope=col>Total No. of Candies</th></tr>\n",
       "\t<tr><th scope=col>&lt;chr&gt;</th><th scope=col>&lt;int&gt;</th></tr>\n",
       "</thead>\n",
       "<tbody>\n",
       "\t<tr><td>hard fruit-flavored non-bar regular candy in a bag/box           </td><td>1</td></tr>\n",
       "\t<tr><td>soft chocolate bar candy with crisped rice/wafer in a single-pack</td><td>3</td></tr>\n",
       "\t<tr><td>soft chocolate bar regular candy in a single-pack                </td><td>3</td></tr>\n",
       "\t<tr><td>soft chocolate non-bar candy with caramel in a bag/box           </td><td>1</td></tr>\n",
       "\t<tr><td>soft chocolate non-bar regular candy in a bag/box                </td><td>2</td></tr>\n",
       "\t<tr><td>soft chocolate non-bar regular candy in a single-pack            </td><td>1</td></tr>\n",
       "\t<tr><td>soft fruit-flavored non-bar regular candy in a bag/box           </td><td>1</td></tr>\n",
       "\t<tr><td>soft non-bar regular candy in a single-pack                      </td><td>1</td></tr>\n",
       "\t<tr><td>soft nutty bar candy with nougat in a single-pack                </td><td>1</td></tr>\n",
       "\t<tr><td>soft nutty chocolate bar regular candy in a single-pack          </td><td>2</td></tr>\n",
       "\t<tr><td>soft nutty chocolate non-bar regular candy in a bag/box          </td><td>1</td></tr>\n",
       "\t<tr><td>soft nutty non-bar regular candy in a bag/box                    </td><td>1</td></tr>\n",
       "</tbody>\n",
       "</table>\n"
      ],
      "text/latex": [
       "A tibble: 12 × 2\n",
       "\\begin{tabular}{ll}\n",
       " description & Total No. of Candies\\\\\n",
       " <chr> & <int>\\\\\n",
       "\\hline\n",
       "\t hard fruit-flavored non-bar regular candy in a bag/box            & 1\\\\\n",
       "\t soft chocolate bar candy with crisped rice/wafer in a single-pack & 3\\\\\n",
       "\t soft chocolate bar regular candy in a single-pack                 & 3\\\\\n",
       "\t soft chocolate non-bar candy with caramel in a bag/box            & 1\\\\\n",
       "\t soft chocolate non-bar regular candy in a bag/box                 & 2\\\\\n",
       "\t soft chocolate non-bar regular candy in a single-pack             & 1\\\\\n",
       "\t soft fruit-flavored non-bar regular candy in a bag/box            & 1\\\\\n",
       "\t soft non-bar regular candy in a single-pack                       & 1\\\\\n",
       "\t soft nutty bar candy with nougat in a single-pack                 & 1\\\\\n",
       "\t soft nutty chocolate bar regular candy in a single-pack           & 2\\\\\n",
       "\t soft nutty chocolate non-bar regular candy in a bag/box           & 1\\\\\n",
       "\t soft nutty non-bar regular candy in a bag/box                     & 1\\\\\n",
       "\\end{tabular}\n"
      ],
      "text/markdown": [
       "\n",
       "A tibble: 12 × 2\n",
       "\n",
       "| description &lt;chr&gt; | Total No. of Candies &lt;int&gt; |\n",
       "|---|---|\n",
       "| hard fruit-flavored non-bar regular candy in a bag/box            | 1 |\n",
       "| soft chocolate bar candy with crisped rice/wafer in a single-pack | 3 |\n",
       "| soft chocolate bar regular candy in a single-pack                 | 3 |\n",
       "| soft chocolate non-bar candy with caramel in a bag/box            | 1 |\n",
       "| soft chocolate non-bar regular candy in a bag/box                 | 2 |\n",
       "| soft chocolate non-bar regular candy in a single-pack             | 1 |\n",
       "| soft fruit-flavored non-bar regular candy in a bag/box            | 1 |\n",
       "| soft non-bar regular candy in a single-pack                       | 1 |\n",
       "| soft nutty bar candy with nougat in a single-pack                 | 1 |\n",
       "| soft nutty chocolate bar regular candy in a single-pack           | 2 |\n",
       "| soft nutty chocolate non-bar regular candy in a bag/box           | 1 |\n",
       "| soft nutty non-bar regular candy in a bag/box                     | 1 |\n",
       "\n"
      ],
      "text/plain": [
       "   description                                                      \n",
       "1  hard fruit-flavored non-bar regular candy in a bag/box           \n",
       "2  soft chocolate bar candy with crisped rice/wafer in a single-pack\n",
       "3  soft chocolate bar regular candy in a single-pack                \n",
       "4  soft chocolate non-bar candy with caramel in a bag/box           \n",
       "5  soft chocolate non-bar regular candy in a bag/box                \n",
       "6  soft chocolate non-bar regular candy in a single-pack            \n",
       "7  soft fruit-flavored non-bar regular candy in a bag/box           \n",
       "8  soft non-bar regular candy in a single-pack                      \n",
       "9  soft nutty bar candy with nougat in a single-pack                \n",
       "10 soft nutty chocolate bar regular candy in a single-pack          \n",
       "11 soft nutty chocolate non-bar regular candy in a bag/box          \n",
       "12 soft nutty non-bar regular candy in a bag/box                    \n",
       "   Total No. of Candies\n",
       "1  1                   \n",
       "2  3                   \n",
       "3  3                   \n",
       "4  1                   \n",
       "5  2                   \n",
       "6  1                   \n",
       "7  1                   \n",
       "8  1                   \n",
       "9  1                   \n",
       "10 2                   \n",
       "11 1                   \n",
       "12 1                   "
      ]
     },
     "metadata": {},
     "output_type": "display_data"
    }
   ],
   "source": [
    "candy_popular %>% \n",
    "  group_by(description) %>% \n",
    "  summarise(\"Total No. of Candies\" = n())"
   ]
  },
  {
   "cell_type": "markdown",
   "id": "ba6c76f0-0b01-40c4-b33a-27f2089c909c",
   "metadata": {},
   "source": [
    "It's interesting to see that there is only **one hard candy** and it's **fruit-flavored** too. \n",
    "\n",
    "Let's look at which candy it is. "
   ]
  },
  {
   "cell_type": "code",
   "execution_count": 280,
   "id": "26ad547d-81d5-4061-ad51-73172279ce08",
   "metadata": {},
   "outputs": [
    {
     "data": {
      "text/html": [
       "<table class=\"dataframe\">\n",
       "<caption>A data.frame: 1 × 5</caption>\n",
       "<thead>\n",
       "\t<tr><th scope=col>brand</th><th scope=col>description</th><th scope=col>winpercent</th><th scope=col>sugarpercent</th><th scope=col>pricepercent</th></tr>\n",
       "\t<tr><th scope=col>&lt;chr&gt;</th><th scope=col>&lt;chr&gt;</th><th scope=col>&lt;dbl&gt;</th><th scope=col>&lt;dbl&gt;</th><th scope=col>&lt;dbl&gt;</th></tr>\n",
       "</thead>\n",
       "<tbody>\n",
       "\t<tr><td>Jawbusters</td><td>hard fruit-flavored non-bar regular candy in a bag/box</td><td>28.13</td><td>9.3</td><td>51.1</td></tr>\n",
       "</tbody>\n",
       "</table>\n"
      ],
      "text/latex": [
       "A data.frame: 1 × 5\n",
       "\\begin{tabular}{lllll}\n",
       " brand & description & winpercent & sugarpercent & pricepercent\\\\\n",
       " <chr> & <chr> & <dbl> & <dbl> & <dbl>\\\\\n",
       "\\hline\n",
       "\t Jawbusters & hard fruit-flavored non-bar regular candy in a bag/box & 28.13 & 9.3 & 51.1\\\\\n",
       "\\end{tabular}\n"
      ],
      "text/markdown": [
       "\n",
       "A data.frame: 1 × 5\n",
       "\n",
       "| brand &lt;chr&gt; | description &lt;chr&gt; | winpercent &lt;dbl&gt; | sugarpercent &lt;dbl&gt; | pricepercent &lt;dbl&gt; |\n",
       "|---|---|---|---|---|\n",
       "| Jawbusters | hard fruit-flavored non-bar regular candy in a bag/box | 28.13 | 9.3 | 51.1 |\n",
       "\n"
      ],
      "text/plain": [
       "  brand      description                                            winpercent\n",
       "1 Jawbusters hard fruit-flavored non-bar regular candy in a bag/box 28.13     \n",
       "  sugarpercent pricepercent\n",
       "1 9.3          51.1        "
      ]
     },
     "metadata": {},
     "output_type": "display_data"
    }
   ],
   "source": [
    "candy_popular %>% \n",
    "  filter(texture == \"hard\") %>% \n",
    "  select(brand,\n",
    "         description,\n",
    "         winpercent,\n",
    "         sugarpercent,\n",
    "         pricepercent)"
   ]
  },
  {
   "cell_type": "markdown",
   "id": "6edc5865-c2d7-40d0-aaec-f72f70b0a9f8",
   "metadata": {},
   "source": [
    "Looking at this candy, it hits multiple categories\n",
    "\n",
    "- **texture:** *hard*\n",
    "- **with_nuts:** *without nuts**\n",
    "- **type:** *fruit-flavored*\n",
    "- **form:** *non-bar*\n",
    "- **filling:** *no filling*\n",
    "\n",
    "Since this is the only **hard fruit-flavored** candy and a very low **sugarpercent** this will automatically be my **1st recommended candy**."
   ]
  },
  {
   "cell_type": "markdown",
   "id": "17e508b7-fdbe-40ff-809b-8cda683a206c",
   "metadata": {},
   "source": [
    "Let's now identify the other 2 candies. \n",
    "\n",
    "In order for me to do this, I want to see a **breakdown** of per **possible combination** of category first. "
   ]
  },
  {
   "cell_type": "code",
   "execution_count": 259,
   "id": "ffb95b6b-37a0-4bc4-8b46-1dc17aafa3e1",
   "metadata": {},
   "outputs": [
    {
     "data": {
      "text/html": [
       "<dl>\n",
       "\t<dt>$texture</dt>\n",
       "\t\t<dd><style>\n",
       ".list-inline {list-style: none; margin:0; padding: 0}\n",
       ".list-inline>li {display: inline-block}\n",
       ".list-inline>li:not(:last-child)::after {content: \"\\00b7\"; padding: 0 .5ex}\n",
       "</style>\n",
       "<ol class=list-inline><li>'soft'</li><li>'hard'</li></ol>\n",
       "</dd>\n",
       "\t<dt>$with_nuts</dt>\n",
       "\t\t<dd><style>\n",
       ".list-inline {list-style: none; margin:0; padding: 0}\n",
       ".list-inline>li {display: inline-block}\n",
       ".list-inline>li:not(:last-child)::after {content: \"\\00b7\"; padding: 0 .5ex}\n",
       "</style>\n",
       "<ol class=list-inline><li>'without nuts'</li><li>'with nuts'</li></ol>\n",
       "</dd>\n",
       "\t<dt>$type</dt>\n",
       "\t\t<dd><style>\n",
       ".list-inline {list-style: none; margin:0; padding: 0}\n",
       ".list-inline>li {display: inline-block}\n",
       ".list-inline>li:not(:last-child)::after {content: \"\\00b7\"; padding: 0 .5ex}\n",
       "</style>\n",
       "<ol class=list-inline><li>'chocolate'</li><li>'unspecified'</li><li>'fruit-flavored'</li></ol>\n",
       "</dd>\n",
       "\t<dt>$form</dt>\n",
       "\t\t<dd><style>\n",
       ".list-inline {list-style: none; margin:0; padding: 0}\n",
       ".list-inline>li {display: inline-block}\n",
       ".list-inline>li:not(:last-child)::after {content: \"\\00b7\"; padding: 0 .5ex}\n",
       "</style>\n",
       "<ol class=list-inline><li>'bar'</li><li>'non-bar'</li></ol>\n",
       "</dd>\n",
       "\t<dt>$filling</dt>\n",
       "\t\t<dd><style>\n",
       ".list-inline {list-style: none; margin:0; padding: 0}\n",
       ".list-inline>li {display: inline-block}\n",
       ".list-inline>li:not(:last-child)::after {content: \"\\00b7\"; padding: 0 .5ex}\n",
       "</style>\n",
       "<ol class=list-inline><li>'candy with crisped rice/wafer'</li><li>'regular candy'</li><li>'candy with caramel'</li><li>'candy with nougat'</li></ol>\n",
       "</dd>\n",
       "\t<dt>$packaging</dt>\n",
       "\t\t<dd><style>\n",
       ".list-inline {list-style: none; margin:0; padding: 0}\n",
       ".list-inline>li {display: inline-block}\n",
       ".list-inline>li:not(:last-child)::after {content: \"\\00b7\"; padding: 0 .5ex}\n",
       "</style>\n",
       "<ol class=list-inline><li>'in a single-pack'</li><li>'in a bag/box'</li></ol>\n",
       "</dd>\n",
       "</dl>\n"
      ],
      "text/latex": [
       "\\begin{description}\n",
       "\\item[\\$texture] \\begin{enumerate*}\n",
       "\\item 'soft'\n",
       "\\item 'hard'\n",
       "\\end{enumerate*}\n",
       "\n",
       "\\item[\\$with\\_nuts] \\begin{enumerate*}\n",
       "\\item 'without nuts'\n",
       "\\item 'with nuts'\n",
       "\\end{enumerate*}\n",
       "\n",
       "\\item[\\$type] \\begin{enumerate*}\n",
       "\\item 'chocolate'\n",
       "\\item 'unspecified'\n",
       "\\item 'fruit-flavored'\n",
       "\\end{enumerate*}\n",
       "\n",
       "\\item[\\$form] \\begin{enumerate*}\n",
       "\\item 'bar'\n",
       "\\item 'non-bar'\n",
       "\\end{enumerate*}\n",
       "\n",
       "\\item[\\$filling] \\begin{enumerate*}\n",
       "\\item 'candy with crisped rice/wafer'\n",
       "\\item 'regular candy'\n",
       "\\item 'candy with caramel'\n",
       "\\item 'candy with nougat'\n",
       "\\end{enumerate*}\n",
       "\n",
       "\\item[\\$packaging] \\begin{enumerate*}\n",
       "\\item 'in a single-pack'\n",
       "\\item 'in a bag/box'\n",
       "\\end{enumerate*}\n",
       "\n",
       "\\end{description}\n"
      ],
      "text/markdown": [
       "$texture\n",
       ":   1. 'soft'\n",
       "2. 'hard'\n",
       "\n",
       "\n",
       "\n",
       "$with_nuts\n",
       ":   1. 'without nuts'\n",
       "2. 'with nuts'\n",
       "\n",
       "\n",
       "\n",
       "$type\n",
       ":   1. 'chocolate'\n",
       "2. 'unspecified'\n",
       "3. 'fruit-flavored'\n",
       "\n",
       "\n",
       "\n",
       "$form\n",
       ":   1. 'bar'\n",
       "2. 'non-bar'\n",
       "\n",
       "\n",
       "\n",
       "$filling\n",
       ":   1. 'candy with crisped rice/wafer'\n",
       "2. 'regular candy'\n",
       "3. 'candy with caramel'\n",
       "4. 'candy with nougat'\n",
       "\n",
       "\n",
       "\n",
       "$packaging\n",
       ":   1. 'in a single-pack'\n",
       "2. 'in a bag/box'\n",
       "\n",
       "\n",
       "\n",
       "\n",
       "\n"
      ],
      "text/plain": [
       "$texture\n",
       "[1] \"soft\" \"hard\"\n",
       "\n",
       "$with_nuts\n",
       "[1] \"without nuts\" \"with nuts\"   \n",
       "\n",
       "$type\n",
       "[1] \"chocolate\"      \"unspecified\"    \"fruit-flavored\"\n",
       "\n",
       "$form\n",
       "[1] \"bar\"     \"non-bar\"\n",
       "\n",
       "$filling\n",
       "[1] \"candy with crisped rice/wafer\" \"regular candy\"                \n",
       "[3] \"candy with caramel\"            \"candy with nougat\"            \n",
       "\n",
       "$packaging\n",
       "[1] \"in a single-pack\" \"in a bag/box\"    \n"
      ]
     },
     "metadata": {},
     "output_type": "display_data"
    }
   ],
   "source": [
    "candy_popular %>% \n",
    "  select(texture,\n",
    "         with_nuts,\n",
    "         type,\n",
    "         form,\n",
    "         filling,\n",
    "         packaging) %>% \n",
    "sapply(unique)"
   ]
  },
  {
   "cell_type": "markdown",
   "id": "af821f82-b8c0-4607-8a57-2c9909c6c416",
   "metadata": {},
   "source": [
    "Let's create possible combinations by removing categories I already satisfied from the **1st recommended candy.**\n",
    "\n",
    "- **texture:** soft (I already have a hard candy)\n",
    "- **type:** chocolate (I already have a fruit-flavored candy and I will not use unspecified)\n",
    "\n",
    "The next categories, I will use them instead as filters:\n",
    "\n",
    "- **bar:** bar and non bar\n",
    "- **with_nuts:** with nuts and without nuts\n",
    "\n",
    "***Filling** and **Packaging** will not be used as I think they don't directly influence preferences.*"
   ]
  },
  {
   "cell_type": "markdown",
   "id": "6fa3b3c7-d54f-4c35-b7d3-2a86b50c91b5",
   "metadata": {},
   "source": [
    "To finalize our combination, we have the following: \n",
    "- ***soft chocolate bar with nuts***\n",
    "- ***soft chocolate bar without nuts***\n",
    "- ***soft chocolate non-bar with nuts***\n",
    "- ***soft chocolate non-bar without nuts***\n",
    "\n",
    "Let's take a look at how many candies fall per combination."
   ]
  },
  {
   "cell_type": "code",
   "execution_count": 268,
   "id": "59ce85f0-0925-43c8-8e54-de363c52abf9",
   "metadata": {},
   "outputs": [
    {
     "data": {
      "text/html": [
       "<table class=\"dataframe\">\n",
       "<caption>A tibble: 2 × 5</caption>\n",
       "<thead>\n",
       "\t<tr><th scope=col>brand</th><th scope=col>description</th><th scope=col>winpercent</th><th scope=col>sugarpercent</th><th scope=col>pricepercent</th></tr>\n",
       "\t<tr><th scope=col>&lt;chr&gt;</th><th scope=col>&lt;chr&gt;</th><th scope=col>&lt;dbl&gt;</th><th scope=col>&lt;dbl&gt;</th><th scope=col>&lt;dbl&gt;</th></tr>\n",
       "</thead>\n",
       "<tbody>\n",
       "\t<tr><td>Mr Good Bar</td><td>soft nutty chocolate bar regular candy in a single-pack</td><td>54.53</td><td>31.3</td><td>91.8</td></tr>\n",
       "\t<tr><td>Almond Joy </td><td>soft nutty chocolate bar regular candy in a single-pack</td><td>50.35</td><td>46.5</td><td>76.7</td></tr>\n",
       "</tbody>\n",
       "</table>\n"
      ],
      "text/latex": [
       "A tibble: 2 × 5\n",
       "\\begin{tabular}{lllll}\n",
       " brand & description & winpercent & sugarpercent & pricepercent\\\\\n",
       " <chr> & <chr> & <dbl> & <dbl> & <dbl>\\\\\n",
       "\\hline\n",
       "\t Mr Good Bar & soft nutty chocolate bar regular candy in a single-pack & 54.53 & 31.3 & 91.8\\\\\n",
       "\t Almond Joy  & soft nutty chocolate bar regular candy in a single-pack & 50.35 & 46.5 & 76.7\\\\\n",
       "\\end{tabular}\n"
      ],
      "text/markdown": [
       "\n",
       "A tibble: 2 × 5\n",
       "\n",
       "| brand &lt;chr&gt; | description &lt;chr&gt; | winpercent &lt;dbl&gt; | sugarpercent &lt;dbl&gt; | pricepercent &lt;dbl&gt; |\n",
       "|---|---|---|---|---|\n",
       "| Mr Good Bar | soft nutty chocolate bar regular candy in a single-pack | 54.53 | 31.3 | 91.8 |\n",
       "| Almond Joy  | soft nutty chocolate bar regular candy in a single-pack | 50.35 | 46.5 | 76.7 |\n",
       "\n"
      ],
      "text/plain": [
       "  brand       description                                            \n",
       "1 Mr Good Bar soft nutty chocolate bar regular candy in a single-pack\n",
       "2 Almond Joy  soft nutty chocolate bar regular candy in a single-pack\n",
       "  winpercent sugarpercent pricepercent\n",
       "1 54.53      31.3         91.8        \n",
       "2 50.35      46.5         76.7        "
      ]
     },
     "metadata": {},
     "output_type": "display_data"
    }
   ],
   "source": [
    "candy_popular %>% \n",
    "  group_by(form, with_nuts) %>% \n",
    "  filter(texture == \"soft\",\n",
    "         type == \"chocolate\",\n",
    "         form == \"bar\",\n",
    "         with_nuts == \"with nuts\") %>% \n",
    "  ungroup() %>% \n",
    "  select(brand,\n",
    "         description,\n",
    "         winpercent,\n",
    "         sugarpercent,\n",
    "         pricepercent) %>% \n",
    "  arrange(desc(winpercent))"
   ]
  },
  {
   "cell_type": "markdown",
   "id": "dc39c9bf-1276-40e0-8f15-19e309e78ca6",
   "metadata": {},
   "source": [
    "### **Soft Chocolate Bar with Nuts**"
   ]
  },
  {
   "cell_type": "code",
   "execution_count": 276,
   "id": "46f97d03-e17d-44ee-839d-4c8d77505dc5",
   "metadata": {},
   "outputs": [
    {
     "data": {
      "text/html": [
       "<table class=\"dataframe\">\n",
       "<caption>A tibble: 6 × 5</caption>\n",
       "<thead>\n",
       "\t<tr><th scope=col>brand</th><th scope=col>description</th><th scope=col>winpercent</th><th scope=col>sugarpercent</th><th scope=col>pricepercent</th></tr>\n",
       "\t<tr><th scope=col>&lt;chr&gt;</th><th scope=col>&lt;chr&gt;</th><th scope=col>&lt;dbl&gt;</th><th scope=col>&lt;dbl&gt;</th><th scope=col>&lt;dbl&gt;</th></tr>\n",
       "</thead>\n",
       "<tbody>\n",
       "\t<tr><td>Kit Kat                 </td><td>soft chocolate bar candy with crisped rice/wafer in a single-pack</td><td>76.77</td><td>31.3</td><td>51.1</td></tr>\n",
       "\t<tr><td>Nestle Crunch           </td><td>soft chocolate bar candy with crisped rice/wafer in a single-pack</td><td>66.47</td><td>31.3</td><td>76.7</td></tr>\n",
       "\t<tr><td>Hershey's Krackel       </td><td>soft chocolate bar candy with crisped rice/wafer in a single-pack</td><td>62.28</td><td>43.0</td><td>91.8</td></tr>\n",
       "\t<tr><td>Hershey's Special Dark  </td><td>soft chocolate bar regular candy in a single-pack                </td><td>59.24</td><td>43.0</td><td>91.8</td></tr>\n",
       "\t<tr><td>Hershey's Milk Chocolate</td><td>soft chocolate bar regular candy in a single-pack                </td><td>56.49</td><td>43.0</td><td>91.8</td></tr>\n",
       "\t<tr><td>Mounds                  </td><td>soft chocolate bar regular candy in a single-pack                </td><td>47.83</td><td>31.3</td><td>86.0</td></tr>\n",
       "</tbody>\n",
       "</table>\n"
      ],
      "text/latex": [
       "A tibble: 6 × 5\n",
       "\\begin{tabular}{lllll}\n",
       " brand & description & winpercent & sugarpercent & pricepercent\\\\\n",
       " <chr> & <chr> & <dbl> & <dbl> & <dbl>\\\\\n",
       "\\hline\n",
       "\t Kit Kat                  & soft chocolate bar candy with crisped rice/wafer in a single-pack & 76.77 & 31.3 & 51.1\\\\\n",
       "\t Nestle Crunch            & soft chocolate bar candy with crisped rice/wafer in a single-pack & 66.47 & 31.3 & 76.7\\\\\n",
       "\t Hershey's Krackel        & soft chocolate bar candy with crisped rice/wafer in a single-pack & 62.28 & 43.0 & 91.8\\\\\n",
       "\t Hershey's Special Dark   & soft chocolate bar regular candy in a single-pack                 & 59.24 & 43.0 & 91.8\\\\\n",
       "\t Hershey's Milk Chocolate & soft chocolate bar regular candy in a single-pack                 & 56.49 & 43.0 & 91.8\\\\\n",
       "\t Mounds                   & soft chocolate bar regular candy in a single-pack                 & 47.83 & 31.3 & 86.0\\\\\n",
       "\\end{tabular}\n"
      ],
      "text/markdown": [
       "\n",
       "A tibble: 6 × 5\n",
       "\n",
       "| brand &lt;chr&gt; | description &lt;chr&gt; | winpercent &lt;dbl&gt; | sugarpercent &lt;dbl&gt; | pricepercent &lt;dbl&gt; |\n",
       "|---|---|---|---|---|\n",
       "| Kit Kat                  | soft chocolate bar candy with crisped rice/wafer in a single-pack | 76.77 | 31.3 | 51.1 |\n",
       "| Nestle Crunch            | soft chocolate bar candy with crisped rice/wafer in a single-pack | 66.47 | 31.3 | 76.7 |\n",
       "| Hershey's Krackel        | soft chocolate bar candy with crisped rice/wafer in a single-pack | 62.28 | 43.0 | 91.8 |\n",
       "| Hershey's Special Dark   | soft chocolate bar regular candy in a single-pack                 | 59.24 | 43.0 | 91.8 |\n",
       "| Hershey's Milk Chocolate | soft chocolate bar regular candy in a single-pack                 | 56.49 | 43.0 | 91.8 |\n",
       "| Mounds                   | soft chocolate bar regular candy in a single-pack                 | 47.83 | 31.3 | 86.0 |\n",
       "\n"
      ],
      "text/plain": [
       "  brand                   \n",
       "1 Kit Kat                 \n",
       "2 Nestle Crunch           \n",
       "3 Hershey's Krackel       \n",
       "4 Hershey's Special Dark  \n",
       "5 Hershey's Milk Chocolate\n",
       "6 Mounds                  \n",
       "  description                                                       winpercent\n",
       "1 soft chocolate bar candy with crisped rice/wafer in a single-pack 76.77     \n",
       "2 soft chocolate bar candy with crisped rice/wafer in a single-pack 66.47     \n",
       "3 soft chocolate bar candy with crisped rice/wafer in a single-pack 62.28     \n",
       "4 soft chocolate bar regular candy in a single-pack                 59.24     \n",
       "5 soft chocolate bar regular candy in a single-pack                 56.49     \n",
       "6 soft chocolate bar regular candy in a single-pack                 47.83     \n",
       "  sugarpercent pricepercent\n",
       "1 31.3         51.1        \n",
       "2 31.3         76.7        \n",
       "3 43.0         91.8        \n",
       "4 43.0         91.8        \n",
       "5 43.0         91.8        \n",
       "6 31.3         86.0        "
      ]
     },
     "metadata": {},
     "output_type": "display_data"
    }
   ],
   "source": [
    "candy_popular %>% \n",
    "  group_by(form, with_nuts) %>% \n",
    "  filter(texture == \"soft\",\n",
    "         type == \"chocolate\",\n",
    "         form == \"bar\",\n",
    "         with_nuts == \"without nuts\") %>% \n",
    "  ungroup() %>% \n",
    "  select(brand,\n",
    "         description,\n",
    "         winpercent,\n",
    "         sugarpercent,\n",
    "         pricepercent) %>% \n",
    "  arrange(desc(winpercent)) "
   ]
  },
  {
   "cell_type": "markdown",
   "id": "b154271b-2f31-43f0-98a6-5a78b10f774c",
   "metadata": {},
   "source": [
    "### **Soft Chocolate Bar without Nuts**"
   ]
  },
  {
   "cell_type": "code",
   "execution_count": 288,
   "id": "7dd0c2bf-1b99-4401-86e7-8bfc2a3ca00e",
   "metadata": {},
   "outputs": [
    {
     "data": {
      "text/html": [
       "<table class=\"dataframe\">\n",
       "<caption>A tibble: 6 × 5</caption>\n",
       "<thead>\n",
       "\t<tr><th scope=col>brand</th><th scope=col>description</th><th scope=col>winpercent</th><th scope=col>sugarpercent</th><th scope=col>pricepercent</th></tr>\n",
       "\t<tr><th scope=col>&lt;chr&gt;</th><th scope=col>&lt;chr&gt;</th><th scope=col>&lt;dbl&gt;</th><th scope=col>&lt;dbl&gt;</th><th scope=col>&lt;dbl&gt;</th></tr>\n",
       "</thead>\n",
       "<tbody>\n",
       "\t<tr><td>Kit Kat                 </td><td>soft chocolate bar candy with crisped rice/wafer in a single-pack</td><td>76.77</td><td>31.3</td><td>51.1</td></tr>\n",
       "\t<tr><td>Nestle Crunch           </td><td>soft chocolate bar candy with crisped rice/wafer in a single-pack</td><td>66.47</td><td>31.3</td><td>76.7</td></tr>\n",
       "\t<tr><td>Hershey's Krackel       </td><td>soft chocolate bar candy with crisped rice/wafer in a single-pack</td><td>62.28</td><td>43.0</td><td>91.8</td></tr>\n",
       "\t<tr><td>Hershey's Special Dark  </td><td>soft chocolate bar regular candy in a single-pack                </td><td>59.24</td><td>43.0</td><td>91.8</td></tr>\n",
       "\t<tr><td>Hershey's Milk Chocolate</td><td>soft chocolate bar regular candy in a single-pack                </td><td>56.49</td><td>43.0</td><td>91.8</td></tr>\n",
       "\t<tr><td>Mounds                  </td><td>soft chocolate bar regular candy in a single-pack                </td><td>47.83</td><td>31.3</td><td>86.0</td></tr>\n",
       "</tbody>\n",
       "</table>\n"
      ],
      "text/latex": [
       "A tibble: 6 × 5\n",
       "\\begin{tabular}{lllll}\n",
       " brand & description & winpercent & sugarpercent & pricepercent\\\\\n",
       " <chr> & <chr> & <dbl> & <dbl> & <dbl>\\\\\n",
       "\\hline\n",
       "\t Kit Kat                  & soft chocolate bar candy with crisped rice/wafer in a single-pack & 76.77 & 31.3 & 51.1\\\\\n",
       "\t Nestle Crunch            & soft chocolate bar candy with crisped rice/wafer in a single-pack & 66.47 & 31.3 & 76.7\\\\\n",
       "\t Hershey's Krackel        & soft chocolate bar candy with crisped rice/wafer in a single-pack & 62.28 & 43.0 & 91.8\\\\\n",
       "\t Hershey's Special Dark   & soft chocolate bar regular candy in a single-pack                 & 59.24 & 43.0 & 91.8\\\\\n",
       "\t Hershey's Milk Chocolate & soft chocolate bar regular candy in a single-pack                 & 56.49 & 43.0 & 91.8\\\\\n",
       "\t Mounds                   & soft chocolate bar regular candy in a single-pack                 & 47.83 & 31.3 & 86.0\\\\\n",
       "\\end{tabular}\n"
      ],
      "text/markdown": [
       "\n",
       "A tibble: 6 × 5\n",
       "\n",
       "| brand &lt;chr&gt; | description &lt;chr&gt; | winpercent &lt;dbl&gt; | sugarpercent &lt;dbl&gt; | pricepercent &lt;dbl&gt; |\n",
       "|---|---|---|---|---|\n",
       "| Kit Kat                  | soft chocolate bar candy with crisped rice/wafer in a single-pack | 76.77 | 31.3 | 51.1 |\n",
       "| Nestle Crunch            | soft chocolate bar candy with crisped rice/wafer in a single-pack | 66.47 | 31.3 | 76.7 |\n",
       "| Hershey's Krackel        | soft chocolate bar candy with crisped rice/wafer in a single-pack | 62.28 | 43.0 | 91.8 |\n",
       "| Hershey's Special Dark   | soft chocolate bar regular candy in a single-pack                 | 59.24 | 43.0 | 91.8 |\n",
       "| Hershey's Milk Chocolate | soft chocolate bar regular candy in a single-pack                 | 56.49 | 43.0 | 91.8 |\n",
       "| Mounds                   | soft chocolate bar regular candy in a single-pack                 | 47.83 | 31.3 | 86.0 |\n",
       "\n"
      ],
      "text/plain": [
       "  brand                   \n",
       "1 Kit Kat                 \n",
       "2 Nestle Crunch           \n",
       "3 Hershey's Krackel       \n",
       "4 Hershey's Special Dark  \n",
       "5 Hershey's Milk Chocolate\n",
       "6 Mounds                  \n",
       "  description                                                       winpercent\n",
       "1 soft chocolate bar candy with crisped rice/wafer in a single-pack 76.77     \n",
       "2 soft chocolate bar candy with crisped rice/wafer in a single-pack 66.47     \n",
       "3 soft chocolate bar candy with crisped rice/wafer in a single-pack 62.28     \n",
       "4 soft chocolate bar regular candy in a single-pack                 59.24     \n",
       "5 soft chocolate bar regular candy in a single-pack                 56.49     \n",
       "6 soft chocolate bar regular candy in a single-pack                 47.83     \n",
       "  sugarpercent pricepercent\n",
       "1 31.3         51.1        \n",
       "2 31.3         76.7        \n",
       "3 43.0         91.8        \n",
       "4 43.0         91.8        \n",
       "5 43.0         91.8        \n",
       "6 31.3         86.0        "
      ]
     },
     "metadata": {},
     "output_type": "display_data"
    }
   ],
   "source": [
    "candy_popular %>% \n",
    "  group_by(form, with_nuts) %>% \n",
    "  filter(texture == \"soft\",\n",
    "         type == \"chocolate\",\n",
    "         form == \"bar\",\n",
    "         with_nuts == \"without nuts\") %>% \n",
    "  ungroup() %>% \n",
    "  select(brand,\n",
    "         description,\n",
    "         winpercent,\n",
    "         sugarpercent,\n",
    "         pricepercent) %>% \n",
    "  arrange(desc(winpercent))"
   ]
  },
  {
   "cell_type": "markdown",
   "id": "6e59440a-1fbe-4a18-9bc5-5bdc9e53c3d4",
   "metadata": {},
   "source": [
    "### **Soft Chocolate Non-Bar with Nuts**"
   ]
  },
  {
   "cell_type": "code",
   "execution_count": 291,
   "id": "241b0def-fc3a-415c-a9ce-8737602a9377",
   "metadata": {},
   "outputs": [
    {
     "data": {
      "text/html": [
       "<table class=\"dataframe\">\n",
       "<caption>A tibble: 1 × 5</caption>\n",
       "<thead>\n",
       "\t<tr><th scope=col>brand</th><th scope=col>description</th><th scope=col>winpercent</th><th scope=col>sugarpercent</th><th scope=col>pricepercent</th></tr>\n",
       "\t<tr><th scope=col>&lt;chr&gt;</th><th scope=col>&lt;chr&gt;</th><th scope=col>&lt;dbl&gt;</th><th scope=col>&lt;dbl&gt;</th><th scope=col>&lt;dbl&gt;</th></tr>\n",
       "</thead>\n",
       "<tbody>\n",
       "\t<tr><td>Reese's pieces</td><td>soft nutty chocolate non-bar regular candy in a bag/box</td><td>73.43</td><td>40.6</td><td>65.1</td></tr>\n",
       "</tbody>\n",
       "</table>\n"
      ],
      "text/latex": [
       "A tibble: 1 × 5\n",
       "\\begin{tabular}{lllll}\n",
       " brand & description & winpercent & sugarpercent & pricepercent\\\\\n",
       " <chr> & <chr> & <dbl> & <dbl> & <dbl>\\\\\n",
       "\\hline\n",
       "\t Reese's pieces & soft nutty chocolate non-bar regular candy in a bag/box & 73.43 & 40.6 & 65.1\\\\\n",
       "\\end{tabular}\n"
      ],
      "text/markdown": [
       "\n",
       "A tibble: 1 × 5\n",
       "\n",
       "| brand &lt;chr&gt; | description &lt;chr&gt; | winpercent &lt;dbl&gt; | sugarpercent &lt;dbl&gt; | pricepercent &lt;dbl&gt; |\n",
       "|---|---|---|---|---|\n",
       "| Reese's pieces | soft nutty chocolate non-bar regular candy in a bag/box | 73.43 | 40.6 | 65.1 |\n",
       "\n"
      ],
      "text/plain": [
       "  brand          description                                            \n",
       "1 Reese's pieces soft nutty chocolate non-bar regular candy in a bag/box\n",
       "  winpercent sugarpercent pricepercent\n",
       "1 73.43      40.6         65.1        "
      ]
     },
     "metadata": {},
     "output_type": "display_data"
    }
   ],
   "source": [
    "candy_popular %>% \n",
    "  group_by(form, with_nuts) %>% \n",
    "  filter(texture == \"soft\",\n",
    "         type == \"chocolate\",\n",
    "         form == \"non-bar\",\n",
    "         with_nuts == \"with nuts\") %>% \n",
    "  ungroup() %>% \n",
    "  select(brand,\n",
    "         description,\n",
    "         winpercent,\n",
    "         sugarpercent,\n",
    "         pricepercent) %>% \n",
    "  arrange(desc(winpercent))"
   ]
  },
  {
   "cell_type": "markdown",
   "id": "754a4f9a-e7e9-42d6-9168-e221d17fe731",
   "metadata": {},
   "source": [
    "### **Soft Chocolate Non-Bar without Nuts**"
   ]
  },
  {
   "cell_type": "code",
   "execution_count": 296,
   "id": "29c6d7c9-fcbc-4117-8d2b-4b3f346c901b",
   "metadata": {},
   "outputs": [
    {
     "data": {
      "text/html": [
       "<table class=\"dataframe\">\n",
       "<caption>A tibble: 4 × 5</caption>\n",
       "<thead>\n",
       "\t<tr><th scope=col>brand</th><th scope=col>description</th><th scope=col>winpercent</th><th scope=col>sugarpercent</th><th scope=col>pricepercent</th></tr>\n",
       "\t<tr><th scope=col>&lt;chr&gt;</th><th scope=col>&lt;chr&gt;</th><th scope=col>&lt;dbl&gt;</th><th scope=col>&lt;dbl&gt;</th><th scope=col>&lt;dbl&gt;</th></tr>\n",
       "</thead>\n",
       "<tbody>\n",
       "\t<tr><td>Junior Mints        </td><td>soft chocolate non-bar regular candy in a bag/box     </td><td>57.22</td><td>19.7</td><td>51.1</td></tr>\n",
       "\t<tr><td>Milk Duds           </td><td>soft chocolate non-bar candy with caramel in a bag/box</td><td>55.06</td><td>30.2</td><td>51.1</td></tr>\n",
       "\t<tr><td>Tootsie Roll Juniors</td><td>soft chocolate non-bar regular candy in a single-pack </td><td>43.07</td><td>31.3</td><td>51.1</td></tr>\n",
       "\t<tr><td>Nestle Smarties     </td><td>soft chocolate non-bar regular candy in a bag/box     </td><td>37.89</td><td>26.7</td><td>97.6</td></tr>\n",
       "</tbody>\n",
       "</table>\n"
      ],
      "text/latex": [
       "A tibble: 4 × 5\n",
       "\\begin{tabular}{lllll}\n",
       " brand & description & winpercent & sugarpercent & pricepercent\\\\\n",
       " <chr> & <chr> & <dbl> & <dbl> & <dbl>\\\\\n",
       "\\hline\n",
       "\t Junior Mints         & soft chocolate non-bar regular candy in a bag/box      & 57.22 & 19.7 & 51.1\\\\\n",
       "\t Milk Duds            & soft chocolate non-bar candy with caramel in a bag/box & 55.06 & 30.2 & 51.1\\\\\n",
       "\t Tootsie Roll Juniors & soft chocolate non-bar regular candy in a single-pack  & 43.07 & 31.3 & 51.1\\\\\n",
       "\t Nestle Smarties      & soft chocolate non-bar regular candy in a bag/box      & 37.89 & 26.7 & 97.6\\\\\n",
       "\\end{tabular}\n"
      ],
      "text/markdown": [
       "\n",
       "A tibble: 4 × 5\n",
       "\n",
       "| brand &lt;chr&gt; | description &lt;chr&gt; | winpercent &lt;dbl&gt; | sugarpercent &lt;dbl&gt; | pricepercent &lt;dbl&gt; |\n",
       "|---|---|---|---|---|\n",
       "| Junior Mints         | soft chocolate non-bar regular candy in a bag/box      | 57.22 | 19.7 | 51.1 |\n",
       "| Milk Duds            | soft chocolate non-bar candy with caramel in a bag/box | 55.06 | 30.2 | 51.1 |\n",
       "| Tootsie Roll Juniors | soft chocolate non-bar regular candy in a single-pack  | 43.07 | 31.3 | 51.1 |\n",
       "| Nestle Smarties      | soft chocolate non-bar regular candy in a bag/box      | 37.89 | 26.7 | 97.6 |\n",
       "\n"
      ],
      "text/plain": [
       "  brand                description                                           \n",
       "1 Junior Mints         soft chocolate non-bar regular candy in a bag/box     \n",
       "2 Milk Duds            soft chocolate non-bar candy with caramel in a bag/box\n",
       "3 Tootsie Roll Juniors soft chocolate non-bar regular candy in a single-pack \n",
       "4 Nestle Smarties      soft chocolate non-bar regular candy in a bag/box     \n",
       "  winpercent sugarpercent pricepercent\n",
       "1 57.22      19.7         51.1        \n",
       "2 55.06      30.2         51.1        \n",
       "3 43.07      31.3         51.1        \n",
       "4 37.89      26.7         97.6        "
      ]
     },
     "metadata": {},
     "output_type": "display_data"
    }
   ],
   "source": [
    "candy_popular %>% \n",
    "  group_by(form, with_nuts) %>% \n",
    "  filter(texture == \"soft\",\n",
    "         type == \"chocolate\",\n",
    "         form == \"non-bar\",\n",
    "         with_nuts == \"without nuts\") %>% \n",
    "  ungroup() %>% \n",
    "  select(brand,\n",
    "         description,\n",
    "         winpercent,\n",
    "         sugarpercent,\n",
    "         pricepercent) %>% \n",
    "  arrange(desc(winpercent))"
   ]
  },
  {
   "cell_type": "markdown",
   "id": "2be79dbc-6e89-4bae-836a-e312b3a06f09",
   "metadata": {},
   "source": [
    "Now we see the lists per combination, let's further decide which ones we will use.\n",
    "\n",
    "Since, **health is our top priority**, we need to consider trick-or-treaters who have **peanut-allergies.**\n",
    "\n",
    "So I would strongly recommend the last two candies should have: \n",
    "- **with nuts**\n",
    "- **without nuts**\n",
    "\n",
    "That leaves me to choose between a **bar or a non-bar** candy. \n",
    "\n",
    "The best way to filter this is by getting the **highest winpercent** for each **with nuts** category, regardless if it's a **bar** or a **non-bar.**"
   ]
  },
  {
   "cell_type": "markdown",
   "id": "bb2be124-1ce7-4647-aa4b-683477bd0cdc",
   "metadata": {},
   "source": [
    "### **With Nuts**"
   ]
  },
  {
   "cell_type": "code",
   "execution_count": 301,
   "id": "eed958ce-bb0f-45fb-9570-38d67fe413fb",
   "metadata": {},
   "outputs": [
    {
     "data": {
      "text/html": [
       "<table class=\"dataframe\">\n",
       "<caption>A tibble: 3 × 5</caption>\n",
       "<thead>\n",
       "\t<tr><th scope=col>brand</th><th scope=col>description</th><th scope=col>winpercent</th><th scope=col>sugarpercent</th><th scope=col>pricepercent</th></tr>\n",
       "\t<tr><th scope=col>&lt;chr&gt;</th><th scope=col>&lt;chr&gt;</th><th scope=col>&lt;dbl&gt;</th><th scope=col>&lt;dbl&gt;</th><th scope=col>&lt;dbl&gt;</th></tr>\n",
       "</thead>\n",
       "<tbody>\n",
       "\t<tr><td>Reese's pieces</td><td>soft nutty chocolate non-bar regular candy in a bag/box</td><td>73.43</td><td>40.6</td><td>65.1</td></tr>\n",
       "\t<tr><td>Mr Good Bar   </td><td>soft nutty chocolate bar regular candy in a single-pack</td><td>54.53</td><td>31.3</td><td>91.8</td></tr>\n",
       "\t<tr><td>Almond Joy    </td><td>soft nutty chocolate bar regular candy in a single-pack</td><td>50.35</td><td>46.5</td><td>76.7</td></tr>\n",
       "</tbody>\n",
       "</table>\n"
      ],
      "text/latex": [
       "A tibble: 3 × 5\n",
       "\\begin{tabular}{lllll}\n",
       " brand & description & winpercent & sugarpercent & pricepercent\\\\\n",
       " <chr> & <chr> & <dbl> & <dbl> & <dbl>\\\\\n",
       "\\hline\n",
       "\t Reese's pieces & soft nutty chocolate non-bar regular candy in a bag/box & 73.43 & 40.6 & 65.1\\\\\n",
       "\t Mr Good Bar    & soft nutty chocolate bar regular candy in a single-pack & 54.53 & 31.3 & 91.8\\\\\n",
       "\t Almond Joy     & soft nutty chocolate bar regular candy in a single-pack & 50.35 & 46.5 & 76.7\\\\\n",
       "\\end{tabular}\n"
      ],
      "text/markdown": [
       "\n",
       "A tibble: 3 × 5\n",
       "\n",
       "| brand &lt;chr&gt; | description &lt;chr&gt; | winpercent &lt;dbl&gt; | sugarpercent &lt;dbl&gt; | pricepercent &lt;dbl&gt; |\n",
       "|---|---|---|---|---|\n",
       "| Reese's pieces | soft nutty chocolate non-bar regular candy in a bag/box | 73.43 | 40.6 | 65.1 |\n",
       "| Mr Good Bar    | soft nutty chocolate bar regular candy in a single-pack | 54.53 | 31.3 | 91.8 |\n",
       "| Almond Joy     | soft nutty chocolate bar regular candy in a single-pack | 50.35 | 46.5 | 76.7 |\n",
       "\n"
      ],
      "text/plain": [
       "  brand          description                                            \n",
       "1 Reese's pieces soft nutty chocolate non-bar regular candy in a bag/box\n",
       "2 Mr Good Bar    soft nutty chocolate bar regular candy in a single-pack\n",
       "3 Almond Joy     soft nutty chocolate bar regular candy in a single-pack\n",
       "  winpercent sugarpercent pricepercent\n",
       "1 73.43      40.6         65.1        \n",
       "2 54.53      31.3         91.8        \n",
       "3 50.35      46.5         76.7        "
      ]
     },
     "metadata": {},
     "output_type": "display_data"
    }
   ],
   "source": [
    "candy_popular %>% \n",
    "  group_by(form, with_nuts) %>% \n",
    "  filter(texture == \"soft\",\n",
    "         type == \"chocolate\",\n",
    "         with_nuts == \"with nuts\") %>% \n",
    "  ungroup() %>% \n",
    "  select(brand,\n",
    "         description,\n",
    "         winpercent,\n",
    "         sugarpercent,\n",
    "         pricepercent) %>% \n",
    "  arrange(desc(winpercent))"
   ]
  },
  {
   "cell_type": "markdown",
   "id": "e0a7a9ab-f91e-4e75-b240-47d8cb79060d",
   "metadata": {},
   "source": [
    "*This leads me to my **2nd recommendation,** which is **Reese's pieces.** This is a soft non-bar candy with nuts*"
   ]
  },
  {
   "cell_type": "markdown",
   "id": "5b3a3b24-872a-4f41-af48-ace22802f6d6",
   "metadata": {},
   "source": [
    "### **Without Nuts**"
   ]
  },
  {
   "cell_type": "code",
   "execution_count": 305,
   "id": "3ffb8d73-7ab7-44fd-87df-2bbbf6c4a0d0",
   "metadata": {},
   "outputs": [
    {
     "data": {
      "text/html": [
       "<table class=\"dataframe\">\n",
       "<caption>A tibble: 10 × 5</caption>\n",
       "<thead>\n",
       "\t<tr><th scope=col>brand</th><th scope=col>description</th><th scope=col>winpercent</th><th scope=col>sugarpercent</th><th scope=col>pricepercent</th></tr>\n",
       "\t<tr><th scope=col>&lt;chr&gt;</th><th scope=col>&lt;chr&gt;</th><th scope=col>&lt;dbl&gt;</th><th scope=col>&lt;dbl&gt;</th><th scope=col>&lt;dbl&gt;</th></tr>\n",
       "</thead>\n",
       "<tbody>\n",
       "\t<tr><td>Kit Kat                 </td><td>soft chocolate bar candy with crisped rice/wafer in a single-pack</td><td>76.77</td><td>31.3</td><td>51.1</td></tr>\n",
       "\t<tr><td>Nestle Crunch           </td><td>soft chocolate bar candy with crisped rice/wafer in a single-pack</td><td>66.47</td><td>31.3</td><td>76.7</td></tr>\n",
       "\t<tr><td>Hershey's Krackel       </td><td>soft chocolate bar candy with crisped rice/wafer in a single-pack</td><td>62.28</td><td>43.0</td><td>91.8</td></tr>\n",
       "\t<tr><td>Hershey's Special Dark  </td><td>soft chocolate bar regular candy in a single-pack                </td><td>59.24</td><td>43.0</td><td>91.8</td></tr>\n",
       "\t<tr><td>Junior Mints            </td><td>soft chocolate non-bar regular candy in a bag/box                </td><td>57.22</td><td>19.7</td><td>51.1</td></tr>\n",
       "\t<tr><td>Hershey's Milk Chocolate</td><td>soft chocolate bar regular candy in a single-pack                </td><td>56.49</td><td>43.0</td><td>91.8</td></tr>\n",
       "\t<tr><td>Milk Duds               </td><td>soft chocolate non-bar candy with caramel in a bag/box           </td><td>55.06</td><td>30.2</td><td>51.1</td></tr>\n",
       "\t<tr><td>Mounds                  </td><td>soft chocolate bar regular candy in a single-pack                </td><td>47.83</td><td>31.3</td><td>86.0</td></tr>\n",
       "\t<tr><td>Tootsie Roll Juniors    </td><td>soft chocolate non-bar regular candy in a single-pack            </td><td>43.07</td><td>31.3</td><td>51.1</td></tr>\n",
       "\t<tr><td>Nestle Smarties         </td><td>soft chocolate non-bar regular candy in a bag/box                </td><td>37.89</td><td>26.7</td><td>97.6</td></tr>\n",
       "</tbody>\n",
       "</table>\n"
      ],
      "text/latex": [
       "A tibble: 10 × 5\n",
       "\\begin{tabular}{lllll}\n",
       " brand & description & winpercent & sugarpercent & pricepercent\\\\\n",
       " <chr> & <chr> & <dbl> & <dbl> & <dbl>\\\\\n",
       "\\hline\n",
       "\t Kit Kat                  & soft chocolate bar candy with crisped rice/wafer in a single-pack & 76.77 & 31.3 & 51.1\\\\\n",
       "\t Nestle Crunch            & soft chocolate bar candy with crisped rice/wafer in a single-pack & 66.47 & 31.3 & 76.7\\\\\n",
       "\t Hershey's Krackel        & soft chocolate bar candy with crisped rice/wafer in a single-pack & 62.28 & 43.0 & 91.8\\\\\n",
       "\t Hershey's Special Dark   & soft chocolate bar regular candy in a single-pack                 & 59.24 & 43.0 & 91.8\\\\\n",
       "\t Junior Mints             & soft chocolate non-bar regular candy in a bag/box                 & 57.22 & 19.7 & 51.1\\\\\n",
       "\t Hershey's Milk Chocolate & soft chocolate bar regular candy in a single-pack                 & 56.49 & 43.0 & 91.8\\\\\n",
       "\t Milk Duds                & soft chocolate non-bar candy with caramel in a bag/box            & 55.06 & 30.2 & 51.1\\\\\n",
       "\t Mounds                   & soft chocolate bar regular candy in a single-pack                 & 47.83 & 31.3 & 86.0\\\\\n",
       "\t Tootsie Roll Juniors     & soft chocolate non-bar regular candy in a single-pack             & 43.07 & 31.3 & 51.1\\\\\n",
       "\t Nestle Smarties          & soft chocolate non-bar regular candy in a bag/box                 & 37.89 & 26.7 & 97.6\\\\\n",
       "\\end{tabular}\n"
      ],
      "text/markdown": [
       "\n",
       "A tibble: 10 × 5\n",
       "\n",
       "| brand &lt;chr&gt; | description &lt;chr&gt; | winpercent &lt;dbl&gt; | sugarpercent &lt;dbl&gt; | pricepercent &lt;dbl&gt; |\n",
       "|---|---|---|---|---|\n",
       "| Kit Kat                  | soft chocolate bar candy with crisped rice/wafer in a single-pack | 76.77 | 31.3 | 51.1 |\n",
       "| Nestle Crunch            | soft chocolate bar candy with crisped rice/wafer in a single-pack | 66.47 | 31.3 | 76.7 |\n",
       "| Hershey's Krackel        | soft chocolate bar candy with crisped rice/wafer in a single-pack | 62.28 | 43.0 | 91.8 |\n",
       "| Hershey's Special Dark   | soft chocolate bar regular candy in a single-pack                 | 59.24 | 43.0 | 91.8 |\n",
       "| Junior Mints             | soft chocolate non-bar regular candy in a bag/box                 | 57.22 | 19.7 | 51.1 |\n",
       "| Hershey's Milk Chocolate | soft chocolate bar regular candy in a single-pack                 | 56.49 | 43.0 | 91.8 |\n",
       "| Milk Duds                | soft chocolate non-bar candy with caramel in a bag/box            | 55.06 | 30.2 | 51.1 |\n",
       "| Mounds                   | soft chocolate bar regular candy in a single-pack                 | 47.83 | 31.3 | 86.0 |\n",
       "| Tootsie Roll Juniors     | soft chocolate non-bar regular candy in a single-pack             | 43.07 | 31.3 | 51.1 |\n",
       "| Nestle Smarties          | soft chocolate non-bar regular candy in a bag/box                 | 37.89 | 26.7 | 97.6 |\n",
       "\n"
      ],
      "text/plain": [
       "   brand                   \n",
       "1  Kit Kat                 \n",
       "2  Nestle Crunch           \n",
       "3  Hershey's Krackel       \n",
       "4  Hershey's Special Dark  \n",
       "5  Junior Mints            \n",
       "6  Hershey's Milk Chocolate\n",
       "7  Milk Duds               \n",
       "8  Mounds                  \n",
       "9  Tootsie Roll Juniors    \n",
       "10 Nestle Smarties         \n",
       "   description                                                       winpercent\n",
       "1  soft chocolate bar candy with crisped rice/wafer in a single-pack 76.77     \n",
       "2  soft chocolate bar candy with crisped rice/wafer in a single-pack 66.47     \n",
       "3  soft chocolate bar candy with crisped rice/wafer in a single-pack 62.28     \n",
       "4  soft chocolate bar regular candy in a single-pack                 59.24     \n",
       "5  soft chocolate non-bar regular candy in a bag/box                 57.22     \n",
       "6  soft chocolate bar regular candy in a single-pack                 56.49     \n",
       "7  soft chocolate non-bar candy with caramel in a bag/box            55.06     \n",
       "8  soft chocolate bar regular candy in a single-pack                 47.83     \n",
       "9  soft chocolate non-bar regular candy in a single-pack             43.07     \n",
       "10 soft chocolate non-bar regular candy in a bag/box                 37.89     \n",
       "   sugarpercent pricepercent\n",
       "1  31.3         51.1        \n",
       "2  31.3         76.7        \n",
       "3  43.0         91.8        \n",
       "4  43.0         91.8        \n",
       "5  19.7         51.1        \n",
       "6  43.0         91.8        \n",
       "7  30.2         51.1        \n",
       "8  31.3         86.0        \n",
       "9  31.3         51.1        \n",
       "10 26.7         97.6        "
      ]
     },
     "metadata": {},
     "output_type": "display_data"
    }
   ],
   "source": [
    "candy_popular %>% \n",
    "  group_by(form, with_nuts) %>% \n",
    "  filter(texture == \"soft\",\n",
    "         type == \"chocolate\",\n",
    "         with_nuts == \"without nuts\") %>% \n",
    "  ungroup() %>% \n",
    "  select(brand,\n",
    "         description,\n",
    "         winpercent,\n",
    "         sugarpercent,\n",
    "         pricepercent) %>% \n",
    "  arrange(desc(winpercent))"
   ]
  },
  {
   "cell_type": "markdown",
   "id": "ad35ab7e-f36f-453b-beb2-471af27cf15f",
   "metadata": {},
   "source": [
    "*And my **3rd recommendation** is **Kit Kat,** which is a soft chocolate bar candy without nuts but with a cripsed rice/wafer filling.*#"
   ]
  },
  {
   "cell_type": "markdown",
   "id": "afdc749f-0697-4434-8908-1907f63a23ea",
   "metadata": {},
   "source": [
    "## Final Recommendation\n",
    "Let's take a look at my final recommendation."
   ]
  },
  {
   "cell_type": "code",
   "execution_count": 314,
   "id": "e86a6b78-3732-4de3-a350-b67d32e51e2c",
   "metadata": {},
   "outputs": [
    {
     "data": {
      "text/html": [
       "<table class=\"dataframe\">\n",
       "<caption>A data.frame: 3 × 5</caption>\n",
       "<thead>\n",
       "\t<tr><th scope=col>brand</th><th scope=col>description</th><th scope=col>winpercent</th><th scope=col>pricepercent</th><th scope=col>sugarpercent</th></tr>\n",
       "\t<tr><th scope=col>&lt;chr&gt;</th><th scope=col>&lt;chr&gt;</th><th scope=col>&lt;dbl&gt;</th><th scope=col>&lt;dbl&gt;</th><th scope=col>&lt;dbl&gt;</th></tr>\n",
       "</thead>\n",
       "<tbody>\n",
       "\t<tr><td>Kit Kat       </td><td>soft chocolate bar candy with crisped rice/wafer in a single-pack</td><td>76.77</td><td>51.1</td><td>31.3</td></tr>\n",
       "\t<tr><td>Reese's pieces</td><td>soft nutty chocolate non-bar regular candy in a bag/box          </td><td>73.43</td><td>65.1</td><td>40.6</td></tr>\n",
       "\t<tr><td>Jawbusters    </td><td>hard fruit-flavored non-bar regular candy in a bag/box           </td><td>28.13</td><td>51.1</td><td> 9.3</td></tr>\n",
       "</tbody>\n",
       "</table>\n"
      ],
      "text/latex": [
       "A data.frame: 3 × 5\n",
       "\\begin{tabular}{lllll}\n",
       " brand & description & winpercent & pricepercent & sugarpercent\\\\\n",
       " <chr> & <chr> & <dbl> & <dbl> & <dbl>\\\\\n",
       "\\hline\n",
       "\t Kit Kat        & soft chocolate bar candy with crisped rice/wafer in a single-pack & 76.77 & 51.1 & 31.3\\\\\n",
       "\t Reese's pieces & soft nutty chocolate non-bar regular candy in a bag/box           & 73.43 & 65.1 & 40.6\\\\\n",
       "\t Jawbusters     & hard fruit-flavored non-bar regular candy in a bag/box            & 28.13 & 51.1 &  9.3\\\\\n",
       "\\end{tabular}\n"
      ],
      "text/markdown": [
       "\n",
       "A data.frame: 3 × 5\n",
       "\n",
       "| brand &lt;chr&gt; | description &lt;chr&gt; | winpercent &lt;dbl&gt; | pricepercent &lt;dbl&gt; | sugarpercent &lt;dbl&gt; |\n",
       "|---|---|---|---|---|\n",
       "| Kit Kat        | soft chocolate bar candy with crisped rice/wafer in a single-pack | 76.77 | 51.1 | 31.3 |\n",
       "| Reese's pieces | soft nutty chocolate non-bar regular candy in a bag/box           | 73.43 | 65.1 | 40.6 |\n",
       "| Jawbusters     | hard fruit-flavored non-bar regular candy in a bag/box            | 28.13 | 51.1 |  9.3 |\n",
       "\n"
      ],
      "text/plain": [
       "  brand         \n",
       "1 Kit Kat       \n",
       "2 Reese's pieces\n",
       "3 Jawbusters    \n",
       "  description                                                       winpercent\n",
       "1 soft chocolate bar candy with crisped rice/wafer in a single-pack 76.77     \n",
       "2 soft nutty chocolate non-bar regular candy in a bag/box           73.43     \n",
       "3 hard fruit-flavored non-bar regular candy in a bag/box            28.13     \n",
       "  pricepercent sugarpercent\n",
       "1 51.1         31.3        \n",
       "2 65.1         40.6        \n",
       "3 51.1          9.3        "
      ]
     },
     "metadata": {},
     "output_type": "display_data"
    }
   ],
   "source": [
    "candy_popular %>% \n",
    "  filter(brand %in% c(\"Kit Kat\", \"Reese's pieces\", \"Jawbusters\")) %>% \n",
    "  select(brand,\n",
    "         description,\n",
    "         winpercent,\n",
    "         pricepercent,\n",
    "         sugarpercent) %>% \n",
    "  arrange(desc(winpercent), desc(pricepercent), winpercent) "
   ]
  },
  {
   "cell_type": "markdown",
   "id": "20a26ac9-2065-4ccc-9e76-b4308d2efc9f",
   "metadata": {},
   "source": [
    "Here is the summary of all the steps I've done to reach my recommmendation.\n",
    "\n",
    "- I broke down the **problem statement** and used it to come up with my recommendation: \"Find the **3 treats** you'll give out on Halloween to guarantee that trick-or-treaters of **all tastes** find something they'll love and will make you the **most popular house on the block.**\"\n",
    "\n",
    "- **To address how to become the most popular house on the block:** I grouped the candies based on sugarpercent and winpercent values. By doing so, I Identified candies that are both healthier and more expensive, which are likely to *appeal first to the parents or guardians.*\n",
    "- **To address the guarantee that all tastes find something they'll love:** I filtered the variables by texture and type, allowing trick-or-treaters to choose between candies with or without nuts. I then focused on the candy with the highest *winpercent* within the \"with_nuts\" category, regardless of whether  it's a bar or a non-bar candy. This approach is designed to *appeal directly to the children/trick-or-treaters.*\n",
    "- Identified the **3 treats** based on the above conditions: I made sure that each candy has variations in texture, type, form, and the inclusion of nuts. Filling and packaging were not considered, as I believe they don't significantly affect preferences.\n",
    "- **The final selection: Kit Kat, Reese's Pieces, and Jawbusters.** These three treats will ensure you're the most popular house on the block while covering a range of preferences for the trick-or-treaters."
   ]
  },
  {
   "cell_type": "markdown",
   "id": "740f7c34-256b-4462-8c60-424785285ce8",
   "metadata": {},
   "source": [
    "## 4th Recommendation"
   ]
  },
  {
   "cell_type": "code",
   "execution_count": 321,
   "id": "0d479bfb-094f-4926-be01-5e8f1208d5a9",
   "metadata": {},
   "outputs": [
    {
     "data": {
      "text/html": [
       "<table class=\"dataframe\">\n",
       "<caption>A data.frame: 1 × 5</caption>\n",
       "<thead>\n",
       "\t<tr><th scope=col>brand</th><th scope=col>description</th><th scope=col>winpercent</th><th scope=col>sugarpercent</th><th scope=col>pricepercent</th></tr>\n",
       "\t<tr><th scope=col>&lt;chr&gt;</th><th scope=col>&lt;chr&gt;</th><th scope=col>&lt;dbl&gt;</th><th scope=col>&lt;dbl&gt;</th><th scope=col>&lt;dbl&gt;</th></tr>\n",
       "</thead>\n",
       "<tbody>\n",
       "\t<tr><td>Nik L Nip</td><td>soft fruit-flavored non-bar regular candy in a bag/box</td><td>22.45</td><td>19.7</td><td>97.6</td></tr>\n",
       "</tbody>\n",
       "</table>\n"
      ],
      "text/latex": [
       "A data.frame: 1 × 5\n",
       "\\begin{tabular}{lllll}\n",
       " brand & description & winpercent & sugarpercent & pricepercent\\\\\n",
       " <chr> & <chr> & <dbl> & <dbl> & <dbl>\\\\\n",
       "\\hline\n",
       "\t Nik L Nip & soft fruit-flavored non-bar regular candy in a bag/box & 22.45 & 19.7 & 97.6\\\\\n",
       "\\end{tabular}\n"
      ],
      "text/markdown": [
       "\n",
       "A data.frame: 1 × 5\n",
       "\n",
       "| brand &lt;chr&gt; | description &lt;chr&gt; | winpercent &lt;dbl&gt; | sugarpercent &lt;dbl&gt; | pricepercent &lt;dbl&gt; |\n",
       "|---|---|---|---|---|\n",
       "| Nik L Nip | soft fruit-flavored non-bar regular candy in a bag/box | 22.45 | 19.7 | 97.6 |\n",
       "\n"
      ],
      "text/plain": [
       "  brand     description                                            winpercent\n",
       "1 Nik L Nip soft fruit-flavored non-bar regular candy in a bag/box 22.45     \n",
       "  sugarpercent pricepercent\n",
       "1 19.7         97.6        "
      ]
     },
     "metadata": {},
     "output_type": "display_data"
    }
   ],
   "source": [
    "candy_popular %>% \n",
    "  filter(texture == \"soft\", \n",
    "         type == \"fruit-flavored\") %>% \n",
    "  select(brand,\n",
    "         description,\n",
    "         winpercent,\n",
    "         sugarpercent,\n",
    "         pricepercent) %>% \n",
    "  arrange(desc(winpercent), desc(pricepercent), winpercent)"
   ]
  },
  {
   "cell_type": "markdown",
   "id": "58ebdd91-dfd6-4bac-98e5-578df9c898e3",
   "metadata": {},
   "source": [
    "**Nik L Nip** would be my 4th recommendation for those who prefer a soft fruit-flavored non-bar candy. "
   ]
  }
 ],
 "metadata": {
  "kernelspec": {
   "display_name": "R",
   "language": "R",
   "name": "ir"
  },
  "language_info": {
   "codemirror_mode": "r",
   "file_extension": ".r",
   "mimetype": "text/x-r-source",
   "name": "R",
   "pygments_lexer": "r",
   "version": "4.4.1"
  }
 },
 "nbformat": 4,
 "nbformat_minor": 5
}
